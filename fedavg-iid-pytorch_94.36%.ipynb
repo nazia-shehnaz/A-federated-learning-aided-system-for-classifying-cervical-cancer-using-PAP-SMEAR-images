{
 "cells": [
  {
   "cell_type": "code",
   "execution_count": 1,
   "id": "ab78443a",
   "metadata": {
    "_cell_guid": "1d1e3d80-dfdf-450f-ba96-fe74056e6490",
    "_uuid": "9c46c82f-acd0-4ddc-98f3-bf8fb9ca81ac",
    "collapsed": false,
    "execution": {
     "iopub.execute_input": "2024-01-29T02:30:49.891788Z",
     "iopub.status.busy": "2024-01-29T02:30:49.890827Z",
     "iopub.status.idle": "2024-01-29T02:30:54.466943Z",
     "shell.execute_reply": "2024-01-29T02:30:54.465647Z"
    },
    "jupyter": {
     "outputs_hidden": false
    },
    "papermill": {
     "duration": 4.600951,
     "end_time": "2024-01-29T02:30:54.470709",
     "exception": false,
     "start_time": "2024-01-29T02:30:49.869758",
     "status": "completed"
    },
    "tags": []
   },
   "outputs": [],
   "source": [
    "import torch\n",
    "from torchvision.datasets import MNIST\n",
    "from torch.utils.data import random_split, DataLoader\n",
    "import torchvision.transforms as transforms\n",
    "import matplotlib.pyplot as plt\n",
    "import torch\n",
    "from torchvision import datasets, transforms\n",
    "\n",
    "%matplotlib inline\n",
    "plt.rcParams['figure.figsize'] = [5, 5]"
   ]
  },
  {
   "cell_type": "code",
   "execution_count": 2,
   "id": "76d69fe9",
   "metadata": {
    "_cell_guid": "ee4917e3-598b-405f-a233-0a8ac338fc88",
    "_uuid": "1c160e62-6a21-4705-8a8e-250110891466",
    "collapsed": false,
    "execution": {
     "iopub.execute_input": "2024-01-29T02:30:54.510166Z",
     "iopub.status.busy": "2024-01-29T02:30:54.509481Z",
     "iopub.status.idle": "2024-01-29T02:30:54.515593Z",
     "shell.execute_reply": "2024-01-29T02:30:54.514154Z"
    },
    "jupyter": {
     "outputs_hidden": false
    },
    "papermill": {
     "duration": 0.028897,
     "end_time": "2024-01-29T02:30:54.518297",
     "exception": false,
     "start_time": "2024-01-29T02:30:54.489400",
     "status": "completed"
    },
    "tags": []
   },
   "outputs": [],
   "source": [
    "import numpy as np\n",
    "import os\n",
    "import shutil"
   ]
  },
  {
   "cell_type": "code",
   "execution_count": 3,
   "id": "b96dcbd5",
   "metadata": {
    "_cell_guid": "9480ef60-6170-49ae-bca2-17b2313d1040",
    "_uuid": "94225f5a-df39-49cf-9992-65c895f7dce6",
    "collapsed": false,
    "execution": {
     "iopub.execute_input": "2024-01-29T02:30:54.557425Z",
     "iopub.status.busy": "2024-01-29T02:30:54.556955Z",
     "iopub.status.idle": "2024-01-29T02:30:55.656980Z",
     "shell.execute_reply": "2024-01-29T02:30:55.655072Z"
    },
    "jupyter": {
     "outputs_hidden": false
    },
    "papermill": {
     "duration": 1.123905,
     "end_time": "2024-01-29T02:30:55.660627",
     "exception": false,
     "start_time": "2024-01-29T02:30:54.536722",
     "status": "completed"
    },
    "tags": []
   },
   "outputs": [],
   "source": [
    "!rm -rf /kaggle/working/*"
   ]
  },
  {
   "cell_type": "code",
   "execution_count": 4,
   "id": "91cc2e29",
   "metadata": {
    "_cell_guid": "2fa2af4c-e2f4-4d3e-921b-9610dceb8c33",
    "_uuid": "b5ba3b41-c73c-454c-95ac-a9edd025ab3c",
    "collapsed": false,
    "execution": {
     "iopub.execute_input": "2024-01-29T02:30:55.703321Z",
     "iopub.status.busy": "2024-01-29T02:30:55.702776Z",
     "iopub.status.idle": "2024-01-29T02:31:11.223017Z",
     "shell.execute_reply": "2024-01-29T02:31:11.221173Z"
    },
    "jupyter": {
     "outputs_hidden": false
    },
    "papermill": {
     "duration": 15.54666,
     "end_time": "2024-01-29T02:31:11.226381",
     "exception": false,
     "start_time": "2024-01-29T02:30:55.679721",
     "status": "completed"
    },
    "tags": []
   },
   "outputs": [
    {
     "name": "stdout",
     "output_type": "stream",
     "text": [
      "Dyskeratotic :\n",
      "Total images:  813\n",
      "Training:  650\n",
      "Validation:  81\n",
      "Testing:  82\n",
      "\n",
      "Koilocytotic :\n",
      "Total images:  825\n",
      "Training:  660\n",
      "Validation:  82\n",
      "Testing:  83\n",
      "\n",
      "Metaplastic :\n",
      "Total images:  793\n",
      "Training:  634\n",
      "Validation:  79\n",
      "Testing:  80\n",
      "\n",
      "Parabasal :\n",
      "Total images:  787\n",
      "Training:  629\n",
      "Validation:  79\n",
      "Testing:  79\n",
      "\n",
      "Superficial-Intermediate :\n",
      "Total images:  831\n",
      "Training:  664\n",
      "Validation:  83\n",
      "Testing:  84\n",
      "\n"
     ]
    }
   ],
   "source": [
    "# Function for Creating Train / Validation / Test folders (One time use Only)\n",
    "\n",
    "def TrainValTestSplit(root_dir, classes_dir, main = \"CROPPED\", val_ratio = 0.10, test_ratio = 0.10):\n",
    "    for cls in classes_dir:\n",
    "        # Creating Split Folders\n",
    "        os.makedirs('CervicalCancerSplitDataset/train/' + cls)\n",
    "        os.makedirs('CervicalCancerSplitDataset/valid/' + cls)\n",
    "        os.makedirs('CervicalCancerSplitDataset/test/' + cls)\n",
    "\n",
    "        # Folder to copy images from\n",
    "        src = os.path.join(root_dir, cls, main);\n",
    "\n",
    "        # Spliting the Files in the Given ratio\n",
    "        allFileNames = os.listdir(src)\n",
    "        np.random.shuffle(allFileNames)\n",
    "        train_FileNames, val_FileNames, test_FileNames = np.split(np.array(allFileNames), [int(len(allFileNames)* (1 - (val_ratio + test_ratio))), int(len(allFileNames)* (1 - test_ratio))])\n",
    "\n",
    "        train_FileNames = [src+'/'+ name for name in train_FileNames.tolist()]\n",
    "        val_FileNames = [src+'/' + name for name in val_FileNames.tolist()]\n",
    "        test_FileNames = [src+'/' + name for name in test_FileNames.tolist()]\n",
    "\n",
    "        # Printing the Split Details\n",
    "        print(cls,':')\n",
    "        print('Total images: ', len(allFileNames))\n",
    "        print('Training: ', len(train_FileNames))\n",
    "        print('Validation: ', len(val_FileNames))\n",
    "        print('Testing: ', len(test_FileNames))\n",
    "\n",
    "        # Copy-pasting images\n",
    "        for name in train_FileNames:\n",
    "            shutil.copy(name, 'CervicalCancerSplitDataset/train/' + cls)\n",
    "\n",
    "        for name in val_FileNames:\n",
    "            shutil.copy(name, 'CervicalCancerSplitDataset/valid/' + cls)\n",
    "\n",
    "        for name in test_FileNames:\n",
    "            shutil.copy(name, 'CervicalCancerSplitDataset/test/' + cls)\n",
    "        print();\n",
    "        \n",
    "\n",
    "# Preforming Train / Validation / Test Split\n",
    "root_dir = \"/kaggle/input/cervical-cancer-formatted-dataset/content/CervicalCancerFormattedDataset\"               # Dataset Root Folder\n",
    "classes_dir = [\"Dyskeratotic\", \"Koilocytotic\", \"Metaplastic\", \"Parabasal\", \"Superficial-Intermediate\"]   # Classes\n",
    "TrainValTestSplit(root_dir, classes_dir);"
   ]
  },
  {
   "cell_type": "code",
   "execution_count": 5,
   "id": "e2b55447",
   "metadata": {
    "execution": {
     "iopub.execute_input": "2024-01-29T02:31:11.269844Z",
     "iopub.status.busy": "2024-01-29T02:31:11.269397Z",
     "iopub.status.idle": "2024-01-29T02:31:14.059162Z",
     "shell.execute_reply": "2024-01-29T02:31:14.057749Z"
    },
    "papermill": {
     "duration": 2.817341,
     "end_time": "2024-01-29T02:31:14.063051",
     "exception": false,
     "start_time": "2024-01-29T02:31:11.245710",
     "status": "completed"
    },
    "tags": []
   },
   "outputs": [
    {
     "name": "stdout",
     "output_type": "stream",
     "text": [
      "Mean and std for training data:\n",
      "Mean: tensor([0.5080, 0.4966, 0.5866])\n",
      "Std: tensor([0.2121, 0.2060, 0.2261])\n",
      "\n",
      "Mean and std for validation data:\n",
      "Mean: tensor([0.5102, 0.5005, 0.5906])\n",
      "Std: tensor([0.2107, 0.2072, 0.2245])\n",
      "\n",
      "Mean and std for test data:\n",
      "Mean: tensor([0.5127, 0.5010, 0.5938])\n",
      "Std: tensor([0.2085, 0.2067, 0.2277])\n"
     ]
    }
   ],
   "source": [
    "# Define custom transform function\n",
    "transform = transforms.Compose([transforms.ToTensor()])\n",
    "\n",
    "train_data_dir = '/kaggle/working/CervicalCancerSplitDataset/train'\n",
    "valid_data_dir = '/kaggle/working/CervicalCancerSplitDataset/valid'\n",
    "test_data_dir = '/kaggle/working/CervicalCancerSplitDataset/test'\n",
    "# Load the datasets\n",
    "train_dataset = datasets.ImageFolder(train_data_dir, transform=transform)\n",
    "valid_dataset = datasets.ImageFolder(valid_data_dir, transform=transform)\n",
    "test_dataset = datasets.ImageFolder(test_data_dir, transform=transform)\n",
    "\n",
    "# Calculate mean and std for the entire training dataset\n",
    "train_pixel_values = torch.cat([img for img, _ in train_dataset], 1)\n",
    "train_mean = train_pixel_values.mean([1, 2])\n",
    "train_std = train_pixel_values.std([1, 2])\n",
    "\n",
    "# Calculate mean and std for the entire validation dataset\n",
    "valid_pixel_values = torch.cat([img for img, _ in valid_dataset], 1)\n",
    "valid_mean = valid_pixel_values.mean([1, 2])\n",
    "valid_std = valid_pixel_values.std([1, 2])\n",
    "\n",
    "# Calculate mean and std for the entire validation dataset\n",
    "test_pixel_values = torch.cat([img for img, _ in test_dataset], 1)\n",
    "test_mean = test_pixel_values.mean([1, 2])\n",
    "test_std = test_pixel_values.std([1, 2])\n",
    "\n",
    "# Print mean and std for training data\n",
    "print(\"Mean and std for training data:\")\n",
    "print(\"Mean:\", train_mean)\n",
    "print(\"Std:\", train_std)\n",
    "\n",
    "# Print mean and std for validation data\n",
    "print(\"\\nMean and std for validation data:\")\n",
    "print(\"Mean:\", valid_mean)\n",
    "print(\"Std:\", valid_std)\n",
    "\n",
    "# Print mean and std for validation data\n",
    "print(\"\\nMean and std for test data:\")\n",
    "print(\"Mean:\", test_mean)\n",
    "print(\"Std:\", test_std)"
   ]
  },
  {
   "cell_type": "code",
   "execution_count": 6,
   "id": "bffd8a02",
   "metadata": {
    "_cell_guid": "d0f549f7-248d-48a7-a119-922907f35fc4",
    "_uuid": "a2668b92-2750-4a6c-b345-48efbac53897",
    "collapsed": false,
    "execution": {
     "iopub.execute_input": "2024-01-29T02:31:14.105493Z",
     "iopub.status.busy": "2024-01-29T02:31:14.104941Z",
     "iopub.status.idle": "2024-01-29T02:31:14.143400Z",
     "shell.execute_reply": "2024-01-29T02:31:14.142013Z"
    },
    "jupyter": {
     "outputs_hidden": false
    },
    "papermill": {
     "duration": 0.063163,
     "end_time": "2024-01-29T02:31:14.146661",
     "exception": false,
     "start_time": "2024-01-29T02:31:14.083498",
     "status": "completed"
    },
    "tags": []
   },
   "outputs": [],
   "source": [
    "import torch\n",
    "from torchvision import datasets, transforms\n",
    "\n",
    "data_dir = '/kaggle/working/CervicalCancerSplitDataset'\n",
    "\n",
    "# TODO: Define transforms for the training data and testing data\n",
    "train_transforms = transforms.Compose([#transforms.RandomRotation(30),\n",
    "                                        transforms.RandomResizedCrop(28),  # Random crop to 66x66 pixels\n",
    "                                        transforms.RandomHorizontalFlip(),  # Random horizontal flip\n",
    "#                                             transforms.RandomAffine(degrees=0, scale=(0.8, 1.2), shear=0.2),  # Random affine transformations for zoom and shear\n",
    "#                                         transforms.ColorJitter(brightness=0.2, contrast=0.2, saturation=0.2, hue=0.2),  # Random changes to brightness, contrast, saturation, and hue\n",
    "                                        transforms.ToTensor(),  # Convert the image to a PyTorch tensor\n",
    "                                        transforms.Normalize(train_mean.tolist(), train_std.tolist())\n",
    "])\n",
    "\n",
    "valid_transforms = transforms.Compose([\n",
    "#                                     transforms.RandomRotation(30),\n",
    "                                     transforms.RandomResizedCrop(28),\n",
    "                                     transforms.ToTensor(),\n",
    "                                     transforms.Normalize(valid_mean.tolist(), valid_std.tolist())\n",
    "])\n",
    "\n",
    "test_transforms = transforms.Compose([\n",
    "#                                     transforms.RandomRotation(30),\n",
    "                                     transforms.RandomResizedCrop(28),\n",
    "                                     transforms.ToTensor(),\n",
    "                                     transforms.Normalize(test_mean.tolist(), test_std.tolist())\n",
    "])\n",
    "\n",
    "\n",
    "\n",
    "# Pass transforms in here, then run the next cell to see how the transforms look\n",
    "train_data = datasets.ImageFolder(data_dir + '/train', transform=train_transforms)\n",
    "test_data = datasets.ImageFolder(data_dir + '/test', transform=valid_transforms)\n",
    "valid_data = datasets.ImageFolder(data_dir + '/valid', transform=test_transforms)\n",
    "\n",
    "trainloader = torch.utils.data.DataLoader(train_data, batch_size=5)\n",
    "testloader = torch.utils.data.DataLoader(test_data, batch_size=5)\n",
    "valloader = torch.utils.data.DataLoader(valid_data, batch_size=5)"
   ]
  },
  {
   "cell_type": "code",
   "execution_count": 7,
   "id": "d562b9a2",
   "metadata": {
    "execution": {
     "iopub.execute_input": "2024-01-29T02:31:14.189267Z",
     "iopub.status.busy": "2024-01-29T02:31:14.188837Z",
     "iopub.status.idle": "2024-01-29T02:31:14.372354Z",
     "shell.execute_reply": "2024-01-29T02:31:14.370927Z"
    },
    "papermill": {
     "duration": 0.209249,
     "end_time": "2024-01-29T02:31:14.375698",
     "exception": false,
     "start_time": "2024-01-29T02:31:14.166449",
     "status": "completed"
    },
    "tags": []
   },
   "outputs": [
    {
     "name": "stdout",
     "output_type": "stream",
     "text": [
      "Class 0: 81 samples\n",
      "Class 1: 82 samples\n",
      "Class 2: 79 samples\n",
      "Class 3: 79 samples\n",
      "Class 4: 83 samples\n"
     ]
    }
   ],
   "source": [
    "# Count the occurrences of each class label\n",
    "class_counts = {}\n",
    "for _, label in valid_dataset:\n",
    "    class_counts[label] = class_counts.get(label, 0) + 1\n",
    "\n",
    "# Print the counts for each class\n",
    "for class_label, count in class_counts.items():\n",
    "    print(f\"Class {class_label}: {count} samples\")"
   ]
  },
  {
   "cell_type": "code",
   "execution_count": 8,
   "id": "6b90b26e",
   "metadata": {
    "execution": {
     "iopub.execute_input": "2024-01-29T02:31:14.419568Z",
     "iopub.status.busy": "2024-01-29T02:31:14.419110Z",
     "iopub.status.idle": "2024-01-29T02:31:14.608681Z",
     "shell.execute_reply": "2024-01-29T02:31:14.607240Z"
    },
    "papermill": {
     "duration": 0.216099,
     "end_time": "2024-01-29T02:31:14.612471",
     "exception": false,
     "start_time": "2024-01-29T02:31:14.396372",
     "status": "completed"
    },
    "tags": []
   },
   "outputs": [
    {
     "name": "stdout",
     "output_type": "stream",
     "text": [
      "Class 0: 82 samples\n",
      "Class 1: 83 samples\n",
      "Class 2: 80 samples\n",
      "Class 3: 79 samples\n",
      "Class 4: 84 samples\n"
     ]
    }
   ],
   "source": [
    "# Count the occurrences of each class label\n",
    "class_counts = {}\n",
    "for _, label in test_dataset:\n",
    "    class_counts[label] = class_counts.get(label, 0) + 1\n",
    "\n",
    "# Print the counts for each class\n",
    "for class_label, count in class_counts.items():\n",
    "    print(f\"Class {class_label}: {count} samples\")"
   ]
  },
  {
   "cell_type": "code",
   "execution_count": 9,
   "id": "6ee9009b",
   "metadata": {
    "_cell_guid": "053bbb37-caba-46a9-bc37-30714c506657",
    "_uuid": "52edf840-521c-4db7-89e5-50c845016efe",
    "collapsed": false,
    "execution": {
     "iopub.execute_input": "2024-01-29T02:31:14.657677Z",
     "iopub.status.busy": "2024-01-29T02:31:14.657254Z",
     "iopub.status.idle": "2024-01-29T02:31:14.664294Z",
     "shell.execute_reply": "2024-01-29T02:31:14.662808Z"
    },
    "jupyter": {
     "outputs_hidden": false
    },
    "papermill": {
     "duration": 0.033683,
     "end_time": "2024-01-29T02:31:14.668434",
     "exception": false,
     "start_time": "2024-01-29T02:31:14.634751",
     "status": "completed"
    },
    "tags": []
   },
   "outputs": [],
   "source": [
    "total_train_size = len(train_data)\n",
    "total_test_size = len(test_data)\n",
    "total_dev_size = len(valid_data)\n",
    "\n",
    "classes = 5\n",
    "input_dim = 784\n",
    "\n",
    "num_clients = 3\n",
    "rounds = 30\n",
    "batch_size = 5\n",
    "epochs_per_client = 10\n",
    "learning_rate = .01"
   ]
  },
  {
   "cell_type": "code",
   "execution_count": 10,
   "id": "80336f77",
   "metadata": {
    "_cell_guid": "fcbe2547-61ec-4d68-ae0e-fd7ae75d8a71",
    "_uuid": "b8b25dcd-ed16-4821-ae68-1d6b14fd9150",
    "collapsed": false,
    "execution": {
     "iopub.execute_input": "2024-01-29T02:31:14.714266Z",
     "iopub.status.busy": "2024-01-29T02:31:14.713851Z",
     "iopub.status.idle": "2024-01-29T02:31:14.723994Z",
     "shell.execute_reply": "2024-01-29T02:31:14.722554Z"
    },
    "jupyter": {
     "outputs_hidden": false
    },
    "papermill": {
     "duration": 0.037715,
     "end_time": "2024-01-29T02:31:14.727432",
     "exception": false,
     "start_time": "2024-01-29T02:31:14.689717",
     "status": "completed"
    },
    "tags": []
   },
   "outputs": [
    {
     "data": {
      "text/plain": [
       "(3237, 404, 408)"
      ]
     },
     "execution_count": 10,
     "metadata": {},
     "output_type": "execute_result"
    }
   ],
   "source": [
    "total_train_size, total_dev_size, total_test_size"
   ]
  },
  {
   "cell_type": "code",
   "execution_count": 11,
   "id": "18d0aa0d",
   "metadata": {
    "execution": {
     "iopub.execute_input": "2024-01-29T02:31:14.771281Z",
     "iopub.status.busy": "2024-01-29T02:31:14.770871Z",
     "iopub.status.idle": "2024-01-29T02:31:15.340328Z",
     "shell.execute_reply": "2024-01-29T02:31:15.338806Z"
    },
    "papermill": {
     "duration": 0.595267,
     "end_time": "2024-01-29T02:31:15.343363",
     "exception": false,
     "start_time": "2024-01-29T02:31:14.748096",
     "status": "completed"
    },
    "tags": []
   },
   "outputs": [
    {
     "data": {
      "image/png": "[encoded data removed]",
      "text/plain": [
       "<Figure size 1500x300 with 5 Axes>"
      ]
     },
     "metadata": {},
     "output_type": "display_data"
    }
   ],
   "source": [
    "import matplotlib.pyplot as plt\n",
    "import numpy as np\n",
    "\n",
    "# Function to display images with a border\n",
    "def show_images_with_border(images, labels, classes, border_color='black', border_width=2):\n",
    "    fig, axes = plt.subplots(1, len(images), figsize=(15, 3))\n",
    "\n",
    "    for ax, image, label in zip(axes, images, labels):\n",
    "        # Add a border around the image\n",
    "        bordered_image = np.ones((image.shape[1] + 2 * border_width, image.shape[2] + 2 * border_width, 3))\n",
    "        bordered_image[border_width:-border_width, border_width:-border_width, :] = np.transpose(image.numpy(), (1, 2, 0))\n",
    "\n",
    "        ax.imshow(bordered_image)\n",
    "        ax.set_title(classes_dir[label])\n",
    "        ax.axis('off')\n",
    "\n",
    "    plt.show()\n",
    "\n",
    "# Display 5 images from train_data in a row with labels and a border\n",
    "num_images_to_display = 5\n",
    "sample_indices = np.random.choice(len(train_data), num_images_to_display, replace=False)\n",
    "\n",
    "sample_images = [train_data[idx][0] for idx in sample_indices]\n",
    "sample_labels = [train_data[idx][1] for idx in sample_indices]\n",
    "\n",
    "show_images_with_border(sample_images, sample_labels, classes, border_color='black', border_width=2)"
   ]
  },
  {
   "cell_type": "code",
   "execution_count": 12,
   "id": "b44705d8",
   "metadata": {
    "_cell_guid": "6b29837d-65e1-40a1-8329-e58974ac6beb",
    "_uuid": "634c058a-6235-4504-9b8f-10908af99acf",
    "collapsed": false,
    "execution": {
     "iopub.execute_input": "2024-01-29T02:31:15.452407Z",
     "iopub.status.busy": "2024-01-29T02:31:15.452002Z",
     "iopub.status.idle": "2024-01-29T02:31:15.461643Z",
     "shell.execute_reply": "2024-01-29T02:31:15.460092Z"
    },
    "jupyter": {
     "outputs_hidden": false
    },
    "papermill": {
     "duration": 0.034398,
     "end_time": "2024-01-29T02:31:15.464199",
     "exception": false,
     "start_time": "2024-01-29T02:31:15.429801",
     "status": "completed"
    },
    "tags": []
   },
   "outputs": [],
   "source": [
    "def get_device():\n",
    "    return torch.device('cuda') if torch.cuda.is_available() else torch.device('cpu')\n",
    "\n",
    "def to_device(data, device):\n",
    "    if isinstance(data, (list, tuple)):\n",
    "        return [to_device(x, device) for x in data]\n",
    "    return data.to(device, non_blocking=True)\n",
    "\n",
    "class DeviceDataLoader(DataLoader):\n",
    "        def __init__(self, dl, device):\n",
    "            self.dl = dl\n",
    "            self.device = device\n",
    "\n",
    "        def __iter__(self):\n",
    "            for batch in self.dl:\n",
    "                yield to_device(batch, self.device)\n",
    "\n",
    "        def __len__(self):\n",
    "            return len(self.dl)\n",
    "\n",
    "device = get_device()"
   ]
  },
  {
   "cell_type": "code",
   "execution_count": 13,
   "id": "cd2c9f26",
   "metadata": {
    "_cell_guid": "b105dd72-113b-4add-8e3f-c6f82c1119f0",
    "_uuid": "5927c16b-998e-4002-91e5-7b06837c1d43",
    "collapsed": false,
    "execution": {
     "iopub.execute_input": "2024-01-29T02:31:15.508350Z",
     "iopub.status.busy": "2024-01-29T02:31:15.507202Z",
     "iopub.status.idle": "2024-01-29T02:31:15.535324Z",
     "shell.execute_reply": "2024-01-29T02:31:15.533900Z"
    },
    "jupyter": {
     "outputs_hidden": false
    },
    "papermill": {
     "duration": 0.053313,
     "end_time": "2024-01-29T02:31:15.538401",
     "exception": false,
     "start_time": "2024-01-29T02:31:15.485088",
     "status": "completed"
    },
    "tags": []
   },
   "outputs": [],
   "source": [
    "class FederatedNet(torch.nn.Module):    \n",
    "    def __init__(self):\n",
    "        super().__init__()\n",
    "        self.conv1 = torch.nn.Conv2d(3, 32, kernel_size=3, stride=1, padding=1)\n",
    "        self.relu = torch.nn.ReLU()\n",
    "        self.pool = torch.nn.MaxPool2d(kernel_size=2, stride=2)\n",
    "        self.conv2 = torch.nn.Conv2d(32, 64, kernel_size=3, stride=1, padding=1)\n",
    "        self.fc1 = torch.nn.Linear(64 * 7 * 7, 128)\n",
    "        self.fc2 = torch.nn.Linear(128, 5)\n",
    "        self.track_layers = {'conv1': self.conv1, 'conv2': self.conv2, 'fc1': self.fc1, 'fc2': self.fc2}\n",
    "\n",
    "    def forward(self, x):\n",
    "        x = self.conv1(x)\n",
    "        x = self.relu(x)\n",
    "        x = self.pool(x)\n",
    "        x = self.conv2(x)\n",
    "        x = self.relu(x)\n",
    "        x = self.pool(x)\n",
    "        x = x.view(x.size(0), -1)\n",
    "        x = self.fc1(x)\n",
    "        x = self.relu(x)\n",
    "        x = self.fc2(x)\n",
    "        return x\n",
    "    \n",
    "    def get_track_layers(self):\n",
    "        return self.track_layers\n",
    "    \n",
    "    def apply_parameters(self, parameters_dict):\n",
    "        with torch.no_grad():\n",
    "            for layer_name in parameters_dict:\n",
    "                self.track_layers[layer_name].weight.data *= 0\n",
    "                self.track_layers[layer_name].bias.data *= 0\n",
    "                self.track_layers[layer_name].weight.data += parameters_dict[layer_name]['weight']\n",
    "                self.track_layers[layer_name].bias.data += parameters_dict[layer_name]['bias']\n",
    "    \n",
    "    def get_parameters(self):\n",
    "        parameters_dict = dict()\n",
    "        for layer_name in self.track_layers:\n",
    "            parameters_dict[layer_name] = {\n",
    "                'weight': self.track_layers[layer_name].weight.data, \n",
    "                'bias': self.track_layers[layer_name].bias.data\n",
    "            }\n",
    "        return parameters_dict\n",
    "    \n",
    "    def batch_accuracy(self, outputs, labels):\n",
    "        with torch.no_grad():\n",
    "            _, predictions = torch.max(outputs, dim=1)\n",
    "            return torch.tensor(torch.sum(predictions == labels).item() / len(predictions))\n",
    "    \n",
    "    def _process_batch(self, batch):\n",
    "        images, labels = batch\n",
    "        outputs = self(images)\n",
    "        loss = torch.nn.functional.cross_entropy(outputs, labels)\n",
    "        accuracy = self.batch_accuracy(outputs, labels)\n",
    "        return (loss, accuracy)\n",
    "    \n",
    "    def fit(self, dataset, epochs, lr, batch_size=10, opt=torch.optim.SGD):\n",
    "        dataloader = DeviceDataLoader(DataLoader(dataset, batch_size, shuffle=True), device)\n",
    "        optimizer = opt(self.parameters(), lr)\n",
    "        history = []\n",
    "        for epoch in range(epochs):\n",
    "            losses = []\n",
    "            accs = []\n",
    "            for batch in dataloader:\n",
    "                loss, acc = self._process_batch(batch)\n",
    "                loss.backward()\n",
    "                optimizer.step()\n",
    "                optimizer.zero_grad()\n",
    "                loss.detach()\n",
    "                losses.append(loss)\n",
    "                accs.append(acc)\n",
    "            avg_loss = torch.stack(losses).mean().item()\n",
    "            avg_acc = torch.stack(accs).mean().item()\n",
    "            history.append((avg_loss, avg_acc))\n",
    "        return history\n",
    "    \n",
    "    def evaluate(self, dataset, batch_size=128):\n",
    "        dataloader = DeviceDataLoader(DataLoader(dataset, batch_size), device)\n",
    "        losses = []\n",
    "        accs = []\n",
    "        with torch.no_grad():\n",
    "            for batch in dataloader:\n",
    "                loss, acc = self._process_batch(batch)\n",
    "                losses.append(loss)\n",
    "                accs.append(acc)\n",
    "        avg_loss = torch.stack(losses).mean().item()\n",
    "        avg_acc = torch.stack(accs).mean().item()\n",
    "        return (avg_loss, avg_acc)"
   ]
  },
  {
   "cell_type": "code",
   "execution_count": 14,
   "id": "11338048",
   "metadata": {
    "_cell_guid": "1ef20989-1177-421b-98e0-7e03203ce93b",
    "_uuid": "b78702d0-cb47-41bb-adb9-75624af361de",
    "collapsed": false,
    "execution": {
     "iopub.execute_input": "2024-01-29T02:31:15.581960Z",
     "iopub.status.busy": "2024-01-29T02:31:15.581382Z",
     "iopub.status.idle": "2024-01-29T02:31:15.591780Z",
     "shell.execute_reply": "2024-01-29T02:31:15.590697Z"
    },
    "jupyter": {
     "outputs_hidden": false
    },
    "papermill": {
     "duration": 0.036013,
     "end_time": "2024-01-29T02:31:15.594548",
     "exception": false,
     "start_time": "2024-01-29T02:31:15.558535",
     "status": "completed"
    },
    "tags": []
   },
   "outputs": [],
   "source": [
    "class Client:\n",
    "    def __init__(self, client_id, dataset):\n",
    "        self.client_id = client_id\n",
    "        self.dataset = dataset\n",
    "    \n",
    "    def get_dataset_size(self):\n",
    "        return len(self.dataset)\n",
    "    \n",
    "    def get_client_id(self):\n",
    "        return self.client_id\n",
    "    \n",
    "    def train(self, parameters_dict):\n",
    "        net = to_device(FederatedNet(), device)\n",
    "        net.apply_parameters(parameters_dict)\n",
    "        train_history = net.fit(self.dataset, epochs_per_client, learning_rate, batch_size)\n",
    "        print('{}: Loss = {}, Accuracy = {}'.format(self.client_id, round(train_history[-1][0], 4), round(train_history[-1][1], 4)))\n",
    "        return net.get_parameters()"
   ]
  },
  {
   "cell_type": "code",
   "execution_count": 15,
   "id": "7d0c7007",
   "metadata": {
    "_cell_guid": "deb012ea-1dcd-4c0c-ac27-8a5187478a51",
    "_uuid": "822f58c1-8ce2-4203-b6b5-7ece448783a5",
    "collapsed": false,
    "execution": {
     "iopub.execute_input": "2024-01-29T02:31:15.639537Z",
     "iopub.status.busy": "2024-01-29T02:31:15.639117Z",
     "iopub.status.idle": "2024-01-29T02:31:15.646975Z",
     "shell.execute_reply": "2024-01-29T02:31:15.645503Z"
    },
    "jupyter": {
     "outputs_hidden": false
    },
    "papermill": {
     "duration": 0.034586,
     "end_time": "2024-01-29T02:31:15.650056",
     "exception": false,
     "start_time": "2024-01-29T02:31:15.615470",
     "status": "completed"
    },
    "tags": []
   },
   "outputs": [],
   "source": [
    "examples_per_client = total_train_size // num_clients\n",
    "client_datasets = random_split(train_data, [min(i + examples_per_client, \n",
    "           total_train_size) - i for i in range(0, total_train_size, examples_per_client)])\n",
    "clients = [Client('client_' + str(i), client_datasets[i]) for i in range(num_clients)]"
   ]
  },
  {
   "cell_type": "code",
   "execution_count": 16,
   "id": "11aa3d1d",
   "metadata": {
    "execution": {
     "iopub.execute_input": "2024-01-29T02:31:15.698199Z",
     "iopub.status.busy": "2024-01-29T02:31:15.697211Z",
     "iopub.status.idle": "2024-01-29T02:31:18.572984Z",
     "shell.execute_reply": "2024-01-29T02:31:18.571704Z"
    },
    "papermill": {
     "duration": 2.904897,
     "end_time": "2024-01-29T02:31:18.576404",
     "exception": false,
     "start_time": "2024-01-29T02:31:15.671507",
     "status": "completed"
    },
    "tags": []
   },
   "outputs": [
    {
     "name": "stdout",
     "output_type": "stream",
     "text": [
      "client_0 examples per class:\n",
      "Class 1: 226 samples\n",
      "Class 3: 216 samples\n",
      "Class 0: 224 samples\n",
      "Class 2: 197 samples\n",
      "Class 4: 216 samples\n",
      "\n",
      "client_1 examples per class:\n",
      "Class 3: 209 samples\n",
      "Class 1: 195 samples\n",
      "Class 0: 208 samples\n",
      "Class 2: 226 samples\n",
      "Class 4: 241 samples\n",
      "\n",
      "client_2 examples per class:\n",
      "Class 1: 239 samples\n",
      "Class 0: 218 samples\n",
      "Class 4: 207 samples\n",
      "Class 3: 204 samples\n",
      "Class 2: 211 samples\n",
      "\n"
     ]
    }
   ],
   "source": [
    "from collections import Counter\n",
    "# Calculate examples_per_class for each client\n",
    "examples_per_client_per_class = Counter()\n",
    "\n",
    "for client in clients:\n",
    "    client_name = client.client_id\n",
    "    client_dataset = client.dataset\n",
    "    \n",
    "    # Count examples per class in the client dataset\n",
    "    class_counts = Counter([label for _, label in client_dataset])\n",
    "    \n",
    "    # Store the counts for each client\n",
    "    examples_per_client_per_class[client_name] = class_counts\n",
    "\n",
    "# Print the results\n",
    "for client_name, class_counts in examples_per_client_per_class.items():\n",
    "    print(f\"{client_name} examples per class:\")\n",
    "    for class_label, count in class_counts.items():\n",
    "        print(f\"Class {class_label}: {count} samples\")\n",
    "    print()"
   ]
  },
  {
   "cell_type": "markdown",
   "id": "92c2bf29",
   "metadata": {
    "papermill": {
     "duration": 0.020856,
     "end_time": "2024-01-29T02:31:18.618620",
     "exception": false,
     "start_time": "2024-01-29T02:31:18.597764",
     "status": "completed"
    },
    "tags": []
   },
   "source": [
    "## Training"
   ]
  },
  {
   "cell_type": "code",
   "execution_count": 17,
   "id": "7f582a4f",
   "metadata": {
    "_cell_guid": "15d143af-2675-41c8-81c9-1cc543ddc35a",
    "_uuid": "1f066c7f-9095-4bfc-bb0d-d43e89bae616",
    "collapsed": false,
    "execution": {
     "iopub.execute_input": "2024-01-29T02:31:18.665568Z",
     "iopub.status.busy": "2024-01-29T02:31:18.664836Z",
     "iopub.status.idle": "2024-01-29T03:11:19.418556Z",
     "shell.execute_reply": "2024-01-29T03:11:19.417352Z"
    },
    "jupyter": {
     "outputs_hidden": false
    },
    "papermill": {
     "duration": 2400.817311,
     "end_time": "2024-01-29T03:11:19.457384",
     "exception": false,
     "start_time": "2024-01-29T02:31:18.640073",
     "status": "completed"
    },
    "tags": []
   },
   "outputs": [
    {
     "name": "stdout",
     "output_type": "stream",
     "text": [
      "Start Round 1 ...\n",
      "client_0: Loss = 0.6812, Accuracy = 0.737\n",
      "client_1: Loss = 0.6815, Accuracy = 0.763\n",
      "client_2: Loss = 0.6817, Accuracy = 0.7463\n",
      "After round 1, train_loss = 0.6128, dev_loss = 0.6398, train_acc = 0.7645, dev_acc = 0.7648\n",
      "\n",
      "Start Round 2 ...\n",
      "client_0: Loss = 0.5112, Accuracy = 0.8009\n",
      "client_1: Loss = 0.4777, Accuracy = 0.8259\n",
      "client_2: Loss = 0.5266, Accuracy = 0.8035\n",
      "After round 2, train_loss = 0.4804, dev_loss = 0.5175, train_acc = 0.8211, dev_acc = 0.7951\n",
      "\n",
      "Start Round 3 ...\n",
      "client_0: Loss = 0.4457, Accuracy = 0.8345\n",
      "client_1: Loss = 0.4071, Accuracy = 0.8606\n",
      "client_2: Loss = 0.4369, Accuracy = 0.8407\n",
      "After round 3, train_loss = 0.3917, dev_loss = 0.4501, train_acc = 0.8515, dev_acc = 0.8346\n",
      "\n",
      "Start Round 4 ...\n",
      "client_0: Loss = 0.3891, Accuracy = 0.8611\n",
      "client_1: Loss = 0.3418, Accuracy = 0.8778\n",
      "client_2: Loss = 0.3871, Accuracy = 0.8648\n",
      "After round 4, train_loss = 0.324, dev_loss = 0.3623, train_acc = 0.8781, dev_acc = 0.8741\n",
      "\n",
      "Start Round 5 ...\n",
      "client_0: Loss = 0.3816, Accuracy = 0.8583\n",
      "client_1: Loss = 0.3231, Accuracy = 0.884\n",
      "client_2: Loss = 0.3351, Accuracy = 0.8655\n",
      "After round 5, train_loss = 0.3317, dev_loss = 0.3682, train_acc = 0.8744, dev_acc = 0.8636\n",
      "\n",
      "Start Round 6 ...\n",
      "client_0: Loss = 0.3165, Accuracy = 0.8859\n",
      "client_1: Loss = 0.2931, Accuracy = 0.8898\n",
      "client_2: Loss = 0.3485, Accuracy = 0.8667\n",
      "After round 6, train_loss = 0.2753, dev_loss = 0.2773, train_acc = 0.8981, dev_acc = 0.9062\n",
      "\n",
      "Start Round 7 ...\n",
      "client_0: Loss = 0.3122, Accuracy = 0.8935\n",
      "client_1: Loss = 0.2797, Accuracy = 0.8963\n",
      "client_2: Loss = 0.2762, Accuracy = 0.8963\n",
      "After round 7, train_loss = 0.2404, dev_loss = 0.2738, train_acc = 0.9145, dev_acc = 0.9062\n",
      "\n",
      "Start Round 8 ...\n",
      "client_0: Loss = 0.3012, Accuracy = 0.8843\n",
      "client_1: Loss = 0.2563, Accuracy = 0.9\n",
      "client_2: Loss = 0.2599, Accuracy = 0.9053\n",
      "After round 8, train_loss = 0.2352, dev_loss = 0.2997, train_acc = 0.9151, dev_acc = 0.8815\n",
      "\n",
      "Start Round 9 ...\n",
      "client_0: Loss = 0.2695, Accuracy = 0.9074\n",
      "client_1: Loss = 0.2353, Accuracy = 0.9111\n",
      "client_2: Loss = 0.2501, Accuracy = 0.9148\n",
      "After round 9, train_loss = 0.2303, dev_loss = 0.326, train_acc = 0.9179, dev_acc = 0.8938\n",
      "\n",
      "Start Round 10 ...\n",
      "client_0: Loss = 0.2534, Accuracy = 0.9074\n",
      "client_1: Loss = 0.2113, Accuracy = 0.9155\n",
      "client_2: Loss = 0.2393, Accuracy = 0.9088\n",
      "After round 10, train_loss = 0.2063, dev_loss = 0.2902, train_acc = 0.9269, dev_acc = 0.8889\n",
      "\n",
      "Start Round 11 ...\n",
      "client_0: Loss = 0.2626, Accuracy = 0.913\n",
      "client_1: Loss = 0.2221, Accuracy = 0.9192\n",
      "client_2: Loss = 0.2278, Accuracy = 0.9157\n",
      "After round 11, train_loss = 0.1775, dev_loss = 0.2621, train_acc = 0.9367, dev_acc = 0.9111\n",
      "\n",
      "Start Round 12 ...\n",
      "client_0: Loss = 0.2344, Accuracy = 0.9139\n",
      "client_1: Loss = 0.2127, Accuracy = 0.9118\n",
      "client_2: Loss = 0.2222, Accuracy = 0.913\n",
      "After round 12, train_loss = 0.2031, dev_loss = 0.312, train_acc = 0.9222, dev_acc = 0.8963\n",
      "\n",
      "Start Round 13 ...\n",
      "client_0: Loss = 0.2225, Accuracy = 0.9174\n",
      "client_1: Loss = 0.1819, Accuracy = 0.9324\n",
      "client_2: Loss = 0.2089, Accuracy = 0.9241\n",
      "After round 13, train_loss = 0.1763, dev_loss = 0.265, train_acc = 0.9377, dev_acc = 0.9086\n",
      "\n",
      "Start Round 14 ...\n",
      "client_0: Loss = 0.2291, Accuracy = 0.9183\n",
      "client_1: Loss = 0.1675, Accuracy = 0.9377\n",
      "client_2: Loss = 0.2147, Accuracy = 0.9287\n",
      "After round 14, train_loss = 0.1517, dev_loss = 0.2395, train_acc = 0.9438, dev_acc = 0.9259\n",
      "\n",
      "Start Round 15 ...\n",
      "client_0: Loss = 0.2189, Accuracy = 0.912\n",
      "client_1: Loss = 0.1794, Accuracy = 0.9361\n",
      "client_2: Loss = 0.1959, Accuracy = 0.9398\n",
      "After round 15, train_loss = 0.1707, dev_loss = 0.288, train_acc = 0.9373, dev_acc = 0.9086\n",
      "\n",
      "Start Round 16 ...\n",
      "client_0: Loss = 0.1748, Accuracy = 0.9444\n",
      "client_1: Loss = 0.1618, Accuracy = 0.9407\n",
      "client_2: Loss = 0.1898, Accuracy = 0.9352\n",
      "After round 16, train_loss = 0.1651, dev_loss = 0.2355, train_acc = 0.9429, dev_acc = 0.9086\n",
      "\n",
      "Start Round 17 ...\n",
      "client_0: Loss = 0.2281, Accuracy = 0.9222\n",
      "client_1: Loss = 0.1438, Accuracy = 0.9491\n",
      "client_2: Loss = 0.1787, Accuracy = 0.9306\n",
      "After round 17, train_loss = 0.1452, dev_loss = 0.2668, train_acc = 0.9481, dev_acc = 0.9136\n",
      "\n",
      "Start Round 18 ...\n",
      "client_0: Loss = 0.1995, Accuracy = 0.9352\n",
      "client_1: Loss = 0.1439, Accuracy = 0.9463\n",
      "client_2: Loss = 0.181, Accuracy = 0.9343\n",
      "After round 18, train_loss = 0.1504, dev_loss = 0.2342, train_acc = 0.9463, dev_acc = 0.9309\n",
      "\n",
      "Start Round 19 ...\n",
      "client_0: Loss = 0.1896, Accuracy = 0.9306\n",
      "client_1: Loss = 0.1513, Accuracy = 0.9463\n",
      "client_2: Loss = 0.1606, Accuracy = 0.9387\n",
      "After round 19, train_loss = 0.1678, dev_loss = 0.2891, train_acc = 0.941, dev_acc = 0.9185\n",
      "\n",
      "Start Round 20 ...\n",
      "client_0: Loss = 0.2033, Accuracy = 0.935\n",
      "client_1: Loss = 0.165, Accuracy = 0.937\n",
      "client_2: Loss = 0.1682, Accuracy = 0.9398\n",
      "After round 20, train_loss = 0.1413, dev_loss = 0.22, train_acc = 0.9488, dev_acc = 0.9235\n",
      "\n",
      "Start Round 21 ...\n",
      "client_0: Loss = 0.1753, Accuracy = 0.9333\n",
      "client_1: Loss = 0.1634, Accuracy = 0.9389\n",
      "client_2: Loss = 0.1704, Accuracy = 0.9417\n",
      "After round 21, train_loss = 0.1359, dev_loss = 0.2307, train_acc = 0.9512, dev_acc = 0.9259\n",
      "\n",
      "Start Round 22 ...\n",
      "client_0: Loss = 0.1677, Accuracy = 0.937\n",
      "client_1: Loss = 0.1714, Accuracy = 0.9414\n",
      "client_2: Loss = 0.1757, Accuracy = 0.9472\n",
      "After round 22, train_loss = 0.1355, dev_loss = 0.2605, train_acc = 0.9512, dev_acc = 0.9358\n",
      "\n",
      "Start Round 23 ...\n",
      "client_0: Loss = 0.1543, Accuracy = 0.9398\n",
      "client_1: Loss = 0.1419, Accuracy = 0.9537\n",
      "client_2: Loss = 0.1473, Accuracy = 0.9472\n",
      "After round 23, train_loss = 0.1381, dev_loss = 0.2332, train_acc = 0.9525, dev_acc = 0.9259\n",
      "\n",
      "Start Round 24 ...\n",
      "client_0: Loss = 0.1762, Accuracy = 0.9306\n",
      "client_1: Loss = 0.1329, Accuracy = 0.9565\n",
      "client_2: Loss = 0.1557, Accuracy = 0.9361\n",
      "After round 24, train_loss = 0.1293, dev_loss = 0.2178, train_acc = 0.9552, dev_acc = 0.9284\n",
      "\n",
      "Start Round 25 ...\n",
      "client_0: Loss = 0.1456, Accuracy = 0.9454\n",
      "client_1: Loss = 0.148, Accuracy = 0.9449\n",
      "client_2: Loss = 0.182, Accuracy = 0.9343\n",
      "After round 25, train_loss = 0.1277, dev_loss = 0.2557, train_acc = 0.9543, dev_acc = 0.921\n",
      "\n",
      "Start Round 26 ...\n",
      "client_0: Loss = 0.1673, Accuracy = 0.9442\n",
      "client_1: Loss = 0.1515, Accuracy = 0.9498\n",
      "client_2: Loss = 0.1318, Accuracy = 0.9546\n",
      "After round 26, train_loss = 0.1258, dev_loss = 0.2509, train_acc = 0.9583, dev_acc = 0.916\n",
      "\n",
      "Start Round 27 ...\n",
      "client_0: Loss = 0.1723, Accuracy = 0.9333\n",
      "client_1: Loss = 0.1348, Accuracy = 0.9537\n",
      "client_2: Loss = 0.1158, Accuracy = 0.9583\n",
      "After round 27, train_loss = 0.1263, dev_loss = 0.2002, train_acc = 0.9596, dev_acc = 0.9259\n",
      "\n",
      "Start Round 28 ...\n",
      "client_0: Loss = 0.147, Accuracy = 0.9528\n",
      "client_1: Loss = 0.142, Accuracy = 0.95\n",
      "client_2: Loss = 0.1604, Accuracy = 0.9405\n",
      "After round 28, train_loss = 0.1086, dev_loss = 0.2426, train_acc = 0.9627, dev_acc = 0.9235\n",
      "\n",
      "Start Round 29 ...\n",
      "client_0: Loss = 0.139, Accuracy = 0.9472\n",
      "client_1: Loss = 0.1444, Accuracy = 0.9537\n",
      "client_2: Loss = 0.1165, Accuracy = 0.9657\n",
      "After round 29, train_loss = 0.1175, dev_loss = 0.2616, train_acc = 0.9597, dev_acc = 0.916\n",
      "\n",
      "Start Round 30 ...\n",
      "client_0: Loss = 0.1432, Accuracy = 0.9528\n",
      "client_1: Loss = 0.1235, Accuracy = 0.9509\n",
      "client_2: Loss = 0.1596, Accuracy = 0.9435\n",
      "After round 30, train_loss = 0.1099, dev_loss = 0.2219, train_acc = 0.962, dev_acc = 0.9358\n",
      "\n"
     ]
    }
   ],
   "source": [
    "global_net = to_device(FederatedNet(), device)\n",
    "history = []\n",
    "history2 = []\n",
    "for i in range(rounds):\n",
    "    print('Start Round {} ...'.format(i + 1))\n",
    "    curr_parameters = global_net.get_parameters()\n",
    "    new_parameters = dict([(layer_name, {'weight': 0, 'bias': 0}) for layer_name in curr_parameters])\n",
    "    for client in clients:\n",
    "        client_parameters = client.train(curr_parameters)\n",
    "        fraction = client.get_dataset_size() / total_train_size\n",
    "        for layer_name in client_parameters:\n",
    "            new_parameters[layer_name]['weight'] += fraction * client_parameters[layer_name]['weight']\n",
    "            new_parameters[layer_name]['bias'] += fraction * client_parameters[layer_name]['bias']\n",
    "    global_net.apply_parameters(new_parameters)\n",
    "    \n",
    "    train_loss, train_acc = global_net.evaluate(train_data, batch_size)\n",
    "    dev_loss, dev_acc = global_net.evaluate(valid_data, batch_size)\n",
    "    print('After round {}, train_loss = {}, dev_loss = {}, train_acc = {}, dev_acc = {}\\n'.format(i + 1, round(train_loss, 4), round(dev_loss, 4), round(train_acc, 4), round(dev_acc, 4)))\n",
    "    history.append((train_acc, dev_acc))\n",
    "    history2.append((train_loss, dev_loss))"
   ]
  },
  {
   "cell_type": "markdown",
   "id": "bf40dbd9",
   "metadata": {
    "papermill": {
     "duration": 0.032135,
     "end_time": "2024-01-29T03:11:19.523093",
     "exception": false,
     "start_time": "2024-01-29T03:11:19.490958",
     "status": "completed"
    },
    "tags": []
   },
   "source": [
    "## Evaluation"
   ]
  },
  {
   "cell_type": "code",
   "execution_count": 18,
   "id": "36446164",
   "metadata": {
    "_cell_guid": "9c446aec-3096-47eb-b526-7af4f44a3d74",
    "_uuid": "a83d86d5-1d02-4921-a521-f2a7de4f9647",
    "collapsed": false,
    "execution": {
     "iopub.execute_input": "2024-01-29T03:11:19.591880Z",
     "iopub.status.busy": "2024-01-29T03:11:19.590823Z",
     "iopub.status.idle": "2024-01-29T03:11:19.961631Z",
     "shell.execute_reply": "2024-01-29T03:11:19.960273Z"
    },
    "jupyter": {
     "outputs_hidden": false
    },
    "papermill": {
     "duration": 0.409532,
     "end_time": "2024-01-29T03:11:19.965306",
     "exception": false,
     "start_time": "2024-01-29T03:11:19.555774",
     "status": "completed"
    },
    "tags": []
   },
   "outputs": [
    {
     "data": {
      "image/png": "[encoded data removed]",
      "text/plain": [
       "<Figure size 500x500 with 1 Axes>"
      ]
     },
     "metadata": {},
     "output_type": "display_data"
    }
   ],
   "source": [
    "plt.plot([i + 1 for i in range(len(history))], [history[i][0] for i in range(len(history))], color='r', label='train acc')\n",
    "plt.plot([i + 1 for i in range(len(history))], [history[i][1] for i in range(len(history))], color='b', label='validation acc')\n",
    "plt.legend()\n",
    "plt.title('Training Vs Validation Accuracy')\n",
    "plt.show()"
   ]
  },
  {
   "cell_type": "code",
   "execution_count": 19,
   "id": "d7cb9073",
   "metadata": {
    "execution": {
     "iopub.execute_input": "2024-01-29T03:11:20.035476Z",
     "iopub.status.busy": "2024-01-29T03:11:20.035000Z",
     "iopub.status.idle": "2024-01-29T03:11:20.388946Z",
     "shell.execute_reply": "2024-01-29T03:11:20.387576Z"
    },
    "papermill": {
     "duration": 0.39362,
     "end_time": "2024-01-29T03:11:20.393270",
     "exception": false,
     "start_time": "2024-01-29T03:11:19.999650",
     "status": "completed"
    },
    "tags": []
   },
   "outputs": [
    {
     "data": {
      "image/png": "[encoded data removed]",
      "text/plain": [
       "<Figure size 500x500 with 1 Axes>"
      ]
     },
     "metadata": {},
     "output_type": "display_data"
    }
   ],
   "source": [
    "plt.plot([i + 1 for i in range(len(history2))], [history2[i][0] for i in range(len(history2))], color='r', label='train loss')\n",
    "plt.plot([i + 1 for i in range(len(history2))], [history2[i][1] for i in range(len(history2))], color='b', label='validation loss')\n",
    "plt.legend()\n",
    "plt.title('Training Vs Validation Loss')\n",
    "plt.show()"
   ]
  },
  {
   "cell_type": "code",
   "execution_count": 20,
   "id": "c6695b53",
   "metadata": {
    "execution": {
     "iopub.execute_input": "2024-01-29T03:11:20.464776Z",
     "iopub.status.busy": "2024-01-29T03:11:20.464272Z",
     "iopub.status.idle": "2024-01-29T03:11:20.473245Z",
     "shell.execute_reply": "2024-01-29T03:11:20.471864Z"
    },
    "papermill": {
     "duration": 0.048062,
     "end_time": "2024-01-29T03:11:20.476198",
     "exception": false,
     "start_time": "2024-01-29T03:11:20.428136",
     "status": "completed"
    },
    "tags": []
   },
   "outputs": [
    {
     "data": {
      "text/plain": [
       "FederatedNet(\n",
       "  (conv1): Conv2d(3, 32, kernel_size=(3, 3), stride=(1, 1), padding=(1, 1))\n",
       "  (relu): ReLU()\n",
       "  (pool): MaxPool2d(kernel_size=2, stride=2, padding=0, dilation=1, ceil_mode=False)\n",
       "  (conv2): Conv2d(32, 64, kernel_size=(3, 3), stride=(1, 1), padding=(1, 1))\n",
       "  (fc1): Linear(in_features=3136, out_features=128, bias=True)\n",
       "  (fc2): Linear(in_features=128, out_features=5, bias=True)\n",
       ")"
      ]
     },
     "execution_count": 20,
     "metadata": {},
     "output_type": "execute_result"
    }
   ],
   "source": [
    "# evaluate accuracy after training\n",
    "global_net.eval()"
   ]
  },
  {
   "cell_type": "code",
   "execution_count": 21,
   "id": "ec16067e",
   "metadata": {
    "execution": {
     "iopub.execute_input": "2024-01-29T03:11:20.546571Z",
     "iopub.status.busy": "2024-01-29T03:11:20.546111Z",
     "iopub.status.idle": "2024-01-29T03:11:20.553124Z",
     "shell.execute_reply": "2024-01-29T03:11:20.551998Z"
    },
    "papermill": {
     "duration": 0.046003,
     "end_time": "2024-01-29T03:11:20.556368",
     "exception": false,
     "start_time": "2024-01-29T03:11:20.510365",
     "status": "completed"
    },
    "tags": []
   },
   "outputs": [
    {
     "data": {
      "text/plain": [
       "408"
      ]
     },
     "execution_count": 21,
     "metadata": {},
     "output_type": "execute_result"
    }
   ],
   "source": [
    "len(test_data)"
   ]
  },
  {
   "cell_type": "code",
   "execution_count": 22,
   "id": "35d46913",
   "metadata": {
    "execution": {
     "iopub.execute_input": "2024-01-29T03:11:20.627863Z",
     "iopub.status.busy": "2024-01-29T03:11:20.627375Z",
     "iopub.status.idle": "2024-01-29T03:11:20.633299Z",
     "shell.execute_reply": "2024-01-29T03:11:20.631796Z"
    },
    "papermill": {
     "duration": 0.044303,
     "end_time": "2024-01-29T03:11:20.635764",
     "exception": false,
     "start_time": "2024-01-29T03:11:20.591461",
     "status": "completed"
    },
    "tags": []
   },
   "outputs": [],
   "source": [
    "# def load_checkpoint(filepath):\n",
    "#     checkpoint = torch.load(filepath)\n",
    "# #     print(checkpoint)\n",
    "#     model = checkpoint['model']\n",
    "#     model.load_state_dict(checkpoint['state_dict'])\n",
    "#     for parameter in model.parameters():\n",
    "#         parameter.requires_grad = False\n",
    "\n",
    "#     model.eval()\n",
    "#     return model\n",
    "\n",
    "# global_net = load_checkpoint('/kaggle/input/non-iid-fedavg/pytorch/noniid/1/checkpoint (1).pth')\n",
    "# global_net.state_dict()"
   ]
  },
  {
   "cell_type": "code",
   "execution_count": 23,
   "id": "8e6cb344",
   "metadata": {
    "execution": {
     "iopub.execute_input": "2024-01-29T03:11:20.706759Z",
     "iopub.status.busy": "2024-01-29T03:11:20.706255Z",
     "iopub.status.idle": "2024-01-29T03:11:21.304972Z",
     "shell.execute_reply": "2024-01-29T03:11:21.303848Z"
    },
    "papermill": {
     "duration": 0.638578,
     "end_time": "2024-01-29T03:11:21.308897",
     "exception": false,
     "start_time": "2024-01-29T03:11:20.670319",
     "status": "completed"
    },
    "tags": []
   },
   "outputs": [
    {
     "name": "stdout",
     "output_type": "stream",
     "text": [
      "Predictions: [0, 0, 0, 0, 0, 0, 0, 0, 0, 0, 0, 0, 0, 0, 0, 0, 0, 0, 0, 0, 0, 0, 0, 0, 0, 0, 0, 0, 0, 0, 0, 0, 0, 0, 0, 0, 0, 0, 0, 0, 0, 0, 0, 1, 1, 0, 0, 0, 0, 0, 0, 0, 0, 0, 0, 0, 0, 0, 0, 0, 0, 0, 0, 0, 0, 0, 0, 0, 0, 0, 0, 1, 0, 0, 0, 1, 0, 0, 0, 1, 0, 0, 1, 1, 1, 1, 1, 1, 1, 4, 4, 1, 1, 1, 1, 1, 0, 0, 1, 0, 1, 1, 1, 1, 1, 1, 1, 1, 1, 1, 1, 1, 1, 1, 1, 1, 1, 2, 1, 1, 1, 1, 1, 1, 1, 1, 1, 1, 1, 1, 1, 1, 1, 1, 1, 1, 1, 2, 1, 1, 1, 1, 2, 1, 1, 1, 1, 1, 1, 1, 1, 1, 4, 1, 1, 1, 1, 1, 1, 1, 1, 1, 1, 1, 1, 2, 2, 2, 2, 2, 2, 2, 2, 2, 2, 2, 2, 2, 2, 2, 2, 2, 2, 2, 2, 2, 2, 2, 2, 2, 2, 2, 2, 2, 2, 4, 2, 2, 2, 2, 2, 1, 2, 2, 2, 2, 2, 2, 2, 2, 2, 2, 2, 2, 2, 2, 2, 2, 2, 2, 2, 2, 2, 2, 2, 2, 2, 2, 2, 2, 2, 0, 2, 2, 2, 1, 2, 2, 2, 2, 2, 1, 2, 2, 2, 3, 3, 3, 3, 3, 3, 3, 3, 3, 3, 3, 3, 3, 3, 3, 3, 3, 3, 3, 3, 3, 3, 3, 3, 3, 3, 3, 3, 3, 3, 4, 4, 3, 3, 3, 3, 3, 3, 3, 3, 3, 3, 3, 3, 3, 3, 3, 3, 3, 3, 3, 3, 3, 3, 3, 3, 3, 3, 3, 3, 3, 3, 3, 3, 4, 3, 3, 3, 3, 3, 3, 3, 3, 3, 3, 3, 3, 3, 3, 4, 1, 4, 4, 2, 4, 4, 4, 4, 4, 4, 4, 3, 4, 4, 4, 4, 4, 4, 4, 4, 4, 4, 4, 4, 4, 4, 4, 4, 4, 4, 4, 4, 4, 4, 4, 4, 4, 4, 4, 4, 4, 4, 4, 4, 4, 4, 4, 4, 4, 4, 4, 4, 4, 4, 4, 4, 4, 4, 4, 4, 4, 4, 4, 4, 4, 4, 4, 4, 4, 4, 4, 4, 4, 4, 4, 4, 4, 4, 4, 4, 1, 4, 4]\n",
      "True Labels: [0, 0, 0, 0, 0, 0, 0, 0, 0, 0, 0, 0, 0, 0, 0, 0, 0, 0, 0, 0, 0, 0, 0, 0, 0, 0, 0, 0, 0, 0, 0, 0, 0, 0, 0, 0, 0, 0, 0, 0, 0, 0, 0, 0, 0, 0, 0, 0, 0, 0, 0, 0, 0, 0, 0, 0, 0, 0, 0, 0, 0, 0, 0, 0, 0, 0, 0, 0, 0, 0, 0, 0, 0, 0, 0, 0, 0, 0, 0, 0, 0, 0, 1, 1, 1, 1, 1, 1, 1, 1, 1, 1, 1, 1, 1, 1, 1, 1, 1, 1, 1, 1, 1, 1, 1, 1, 1, 1, 1, 1, 1, 1, 1, 1, 1, 1, 1, 1, 1, 1, 1, 1, 1, 1, 1, 1, 1, 1, 1, 1, 1, 1, 1, 1, 1, 1, 1, 1, 1, 1, 1, 1, 1, 1, 1, 1, 1, 1, 1, 1, 1, 1, 1, 1, 1, 1, 1, 1, 1, 1, 1, 1, 1, 1, 1, 2, 2, 2, 2, 2, 2, 2, 2, 2, 2, 2, 2, 2, 2, 2, 2, 2, 2, 2, 2, 2, 2, 2, 2, 2, 2, 2, 2, 2, 2, 2, 2, 2, 2, 2, 2, 2, 2, 2, 2, 2, 2, 2, 2, 2, 2, 2, 2, 2, 2, 2, 2, 2, 2, 2, 2, 2, 2, 2, 2, 2, 2, 2, 2, 2, 2, 2, 2, 2, 2, 2, 2, 2, 2, 2, 2, 2, 2, 2, 2, 3, 3, 3, 3, 3, 3, 3, 3, 3, 3, 3, 3, 3, 3, 3, 3, 3, 3, 3, 3, 3, 3, 3, 3, 3, 3, 3, 3, 3, 3, 3, 3, 3, 3, 3, 3, 3, 3, 3, 3, 3, 3, 3, 3, 3, 3, 3, 3, 3, 3, 3, 3, 3, 3, 3, 3, 3, 3, 3, 3, 3, 3, 3, 3, 3, 3, 3, 3, 3, 3, 3, 3, 3, 3, 3, 3, 3, 3, 3, 4, 4, 4, 4, 4, 4, 4, 4, 4, 4, 4, 4, 4, 4, 4, 4, 4, 4, 4, 4, 4, 4, 4, 4, 4, 4, 4, 4, 4, 4, 4, 4, 4, 4, 4, 4, 4, 4, 4, 4, 4, 4, 4, 4, 4, 4, 4, 4, 4, 4, 4, 4, 4, 4, 4, 4, 4, 4, 4, 4, 4, 4, 4, 4, 4, 4, 4, 4, 4, 4, 4, 4, 4, 4, 4, 4, 4, 4, 4, 4, 4, 4, 4, 4]\n"
     ]
    }
   ],
   "source": [
    "# Make predictions on the test set\n",
    "all_predictions = []\n",
    "true_labels = []\n",
    "with torch.no_grad():\n",
    "    for test_data, test_labels in testloader:\n",
    "        outputs = global_net(test_data)\n",
    "        _, predictions = torch.max(outputs, 1)\n",
    "        all_predictions.extend(predictions.numpy())\n",
    "        true_labels.extend(test_labels.numpy())\n",
    "\n",
    "# 'all_predictions' now contains the predicted class labels, and 'true_labels' contains the true class labels\n",
    "print(\"Predictions:\", all_predictions)\n",
    "print(\"True Labels:\", true_labels)"
   ]
  },
  {
   "cell_type": "code",
   "execution_count": 24,
   "id": "86097765",
   "metadata": {
    "execution": {
     "iopub.execute_input": "2024-01-29T03:11:21.382348Z",
     "iopub.status.busy": "2024-01-29T03:11:21.381527Z",
     "iopub.status.idle": "2024-01-29T03:11:24.958182Z",
     "shell.execute_reply": "2024-01-29T03:11:24.956699Z"
    },
    "papermill": {
     "duration": 3.616697,
     "end_time": "2024-01-29T03:11:24.961154",
     "exception": false,
     "start_time": "2024-01-29T03:11:21.344457",
     "status": "completed"
    },
    "tags": []
   },
   "outputs": [
    {
     "data": {
      "image/png": "[encoded data removed]",
      "text/plain": [
       "<Figure size 500x500 with 2 Axes>"
      ]
     },
     "metadata": {},
     "output_type": "display_data"
    }
   ],
   "source": [
    "import seaborn as sns; sns.set(font_scale=1.2)\n",
    "from sklearn.metrics import confusion_matrix\n",
    "# Convert lists to numpy arrays\n",
    "all_predictions_ = np.array(all_predictions)\n",
    "true_labels_ = np.array(true_labels)\n",
    "\n",
    "# Display confusion matrix using seaborn heatmap\n",
    "class_names = [\"Dyskeratotic\", \"Koilocytotic\", \"Metaplastic\", \"Parabasal\", \"Superficial-Intermediate\"]   # Classes\n",
    "CM = confusion_matrix(true_labels, all_predictions)\n",
    "ax = plt.axes()\n",
    "sns.heatmap(CM, annot=True, \n",
    "           annot_kws={\"size\": 12}, \n",
    "           xticklabels=class_names, \n",
    "           yticklabels=class_names, ax = ax, cmap='Blues')\n",
    "ax.set_title('Confusion matrix')\n",
    "plt.show()"
   ]
  },
  {
   "cell_type": "code",
   "execution_count": 25,
   "id": "fee421c7",
   "metadata": {
    "execution": {
     "iopub.execute_input": "2024-01-29T03:11:25.036514Z",
     "iopub.status.busy": "2024-01-29T03:11:25.035706Z",
     "iopub.status.idle": "2024-01-29T03:11:25.044388Z",
     "shell.execute_reply": "2024-01-29T03:11:25.043107Z"
    },
    "papermill": {
     "duration": 0.050359,
     "end_time": "2024-01-29T03:11:25.047543",
     "exception": false,
     "start_time": "2024-01-29T03:11:24.997184",
     "status": "completed"
    },
    "tags": []
   },
   "outputs": [
    {
     "data": {
      "text/plain": [
       "FederatedNet(\n",
       "  (conv1): Conv2d(3, 32, kernel_size=(3, 3), stride=(1, 1), padding=(1, 1))\n",
       "  (relu): ReLU()\n",
       "  (pool): MaxPool2d(kernel_size=2, stride=2, padding=0, dilation=1, ceil_mode=False)\n",
       "  (conv2): Conv2d(32, 64, kernel_size=(3, 3), stride=(1, 1), padding=(1, 1))\n",
       "  (fc1): Linear(in_features=3136, out_features=128, bias=True)\n",
       "  (fc2): Linear(in_features=128, out_features=5, bias=True)\n",
       ")"
      ]
     },
     "execution_count": 25,
     "metadata": {},
     "output_type": "execute_result"
    }
   ],
   "source": [
    "global_net.eval()"
   ]
  },
  {
   "cell_type": "code",
   "execution_count": 26,
   "id": "dde03dd6",
   "metadata": {
    "execution": {
     "iopub.execute_input": "2024-01-29T03:11:25.121336Z",
     "iopub.status.busy": "2024-01-29T03:11:25.120494Z",
     "iopub.status.idle": "2024-01-29T03:11:25.156173Z",
     "shell.execute_reply": "2024-01-29T03:11:25.154893Z"
    },
    "papermill": {
     "duration": 0.075888,
     "end_time": "2024-01-29T03:11:25.158984",
     "exception": false,
     "start_time": "2024-01-29T03:11:25.083096",
     "status": "completed"
    },
    "tags": []
   },
   "outputs": [
    {
     "name": "stdout",
     "output_type": "stream",
     "text": [
      "precision score was  93.68%\n",
      "recall score was  93.63%\n",
      "f1 score was  93.65%\n",
      "\n",
      "Accuracy: 0.9363\n",
      "Class 0 - Precision: 0.9506, Recall: 0.9390, F1-score: 0.9448\n",
      "Class 1 - Precision: 0.8810, Recall: 0.8916, F1-score: 0.8862\n",
      "Class 2 - Precision: 0.9494, Recall: 0.9375, F1-score: 0.9434\n",
      "Class 3 - Precision: 0.9870, Recall: 0.9620, F1-score: 0.9744\n",
      "Class 4 - Precision: 0.9195, Recall: 0.9524, F1-score: 0.9357\n",
      "\n",
      "Classification Report:\n",
      "              precision    recall  f1-score   support\n",
      "\n",
      "           0       0.95      0.94      0.94        82\n",
      "           1       0.88      0.89      0.89        83\n",
      "           2       0.95      0.94      0.94        80\n",
      "           3       0.99      0.96      0.97        79\n",
      "           4       0.92      0.95      0.94        84\n",
      "\n",
      "    accuracy                           0.94       408\n",
      "   macro avg       0.94      0.94      0.94       408\n",
      "weighted avg       0.94      0.94      0.94       408\n",
      "\n"
     ]
    }
   ],
   "source": [
    "from sklearn.metrics import accuracy_score, precision_score, recall_score, f1_score, classification_report\n",
    "\n",
    "# Assuming you have 'all_predictions' and 'true_labels' from the previous code snippet\n",
    "\n",
    "# Calculate and print accuracy\n",
    "prec_score = precision_score(true_labels, all_predictions, average='weighted') * 100\n",
    "rec_score = recall_score(true_labels, all_predictions, average='weighted') * 100\n",
    "f1score = f1_score(true_labels, all_predictions, average='weighted') * 100\n",
    "\n",
    "print(f'precision score was {prec_score:6.2f}%\\nrecall score was {rec_score:6.2f}%')\n",
    "print(f'f1 score was {f1score:6.2f}%\\n')\n",
    "accuracy = accuracy_score(true_labels, all_predictions)\n",
    "print(f'Accuracy: {accuracy:.4f}')\n",
    "\n",
    "# Calculate and print precision, recall, and F1-score for each class\n",
    "precision = precision_score(true_labels, all_predictions, average=None)\n",
    "recall = recall_score(true_labels, all_predictions, average=None)\n",
    "f1 = f1_score(true_labels, all_predictions, average=None)\n",
    "\n",
    "for i in range(len(precision)):\n",
    "    print(f'Class {i} - Precision: {precision[i]:.4f}, Recall: {recall[i]:.4f}, F1-score: {f1[i]:.4f}')\n",
    "\n",
    "# Print the overall classification report\n",
    "print('\\nClassification Report:')\n",
    "print(classification_report(true_labels, all_predictions))"
   ]
  },
  {
   "cell_type": "code",
   "execution_count": 27,
   "id": "077ca052",
   "metadata": {
    "execution": {
     "iopub.execute_input": "2024-01-29T03:11:25.234650Z",
     "iopub.status.busy": "2024-01-29T03:11:25.233645Z",
     "iopub.status.idle": "2024-01-29T03:11:25.240465Z",
     "shell.execute_reply": "2024-01-29T03:11:25.239403Z"
    },
    "papermill": {
     "duration": 0.047413,
     "end_time": "2024-01-29T03:11:25.243128",
     "exception": false,
     "start_time": "2024-01-29T03:11:25.195715",
     "status": "completed"
    },
    "tags": []
   },
   "outputs": [],
   "source": [
    "import numpy as np\n",
    "import matplotlib.pyplot as plt\n",
    "from sklearn.metrics import roc_curve, auc\n",
    "from sklearn.preprocessing import label_binarize\n",
    "from torch.utils.data import DataLoader\n",
    "import torch.nn.functional as F\n",
    "import torch"
   ]
  },
  {
   "cell_type": "code",
   "execution_count": 28,
   "id": "f5514042",
   "metadata": {
    "execution": {
     "iopub.execute_input": "2024-01-29T03:11:25.318411Z",
     "iopub.status.busy": "2024-01-29T03:11:25.317588Z",
     "iopub.status.idle": "2024-01-29T03:11:25.345828Z",
     "shell.execute_reply": "2024-01-29T03:11:25.344576Z"
    },
    "papermill": {
     "duration": 0.068914,
     "end_time": "2024-01-29T03:11:25.348676",
     "exception": false,
     "start_time": "2024-01-29T03:11:25.279762",
     "status": "completed"
    },
    "tags": []
   },
   "outputs": [
    {
     "name": "stdout",
     "output_type": "stream",
     "text": [
      "ROC AUC score for each class\n",
      "{0: 0.9633772257967979, 1: 0.9303985171455051, 2: 0.9626524390243902, 3: 0.9794929013889423, 4: 0.9653880070546738}\n"
     ]
    }
   ],
   "source": [
    "# Displays the ROC AUC for each class\n",
    "from sklearn.metrics import roc_auc_score\n",
    "# Convert lists to numpy arrays\n",
    "all_predictions_ = np.array(all_predictions)\n",
    "true_labels_ = np.array(true_labels)\n",
    "def roc_auc_score_multiclass(actual_class, pred_class, average = \"micro\"):\n",
    "\n",
    "  #creating a set of all the unique classes using the actual class list\n",
    "  unique_class = set(actual_class)\n",
    "  roc_auc_dict = {}\n",
    "  for per_class in unique_class:\n",
    "    #creating a list of all the classes except the current class \n",
    "    other_class = [x for x in unique_class if x != per_class]\n",
    "\n",
    "    #marking the current class as 1 and all other classes as 0\n",
    "    new_actual_class = [0 if x in other_class else 1 for x in actual_class]\n",
    "    new_pred_class = [0 if x in other_class else 1 for x in pred_class]\n",
    "\n",
    "    #using the sklearn metrics method to calculate the roc_auc_score\n",
    "    roc_auc = roc_auc_score(new_actual_class, new_pred_class, average = average)\n",
    "    roc_auc_dict[per_class] = roc_auc\n",
    "\n",
    "  return roc_auc_dict\n",
    "\n",
    "print(\"ROC AUC score for each class\")\n",
    "# assuming your already have a list of actual_class and predicted_class from the logistic regression classifier\n",
    "lr_roc_auc_multiclass = roc_auc_score_multiclass(true_labels, all_predictions)\n",
    "print(lr_roc_auc_multiclass)"
   ]
  },
  {
   "cell_type": "code",
   "execution_count": 29,
   "id": "374bc33c",
   "metadata": {
    "execution": {
     "iopub.execute_input": "2024-01-29T03:11:25.424735Z",
     "iopub.status.busy": "2024-01-29T03:11:25.423959Z",
     "iopub.status.idle": "2024-01-29T03:11:26.021180Z",
     "shell.execute_reply": "2024-01-29T03:11:26.019759Z"
    },
    "papermill": {
     "duration": 0.639936,
     "end_time": "2024-01-29T03:11:26.024566",
     "exception": false,
     "start_time": "2024-01-29T03:11:25.384630",
     "status": "completed"
    },
    "tags": []
   },
   "outputs": [],
   "source": [
    "preds = torch.zeros((0,5))\n",
    "labels = torch.zeros((0))\n",
    "global_net.eval()\n",
    "with torch.no_grad():\n",
    "    for i, (images, label) in enumerate(testloader):\n",
    "        pred = global_net(images)\n",
    "        preds = torch.cat((preds,pred),dim = 0)\n",
    "        labels = torch.cat((labels,label.float()))\n",
    "\n",
    "# one hot encoding test labels\n",
    "y_true = np.zeros(preds.shape)\n",
    "for i in range (preds.shape[0]):\n",
    "    for j in range(preds.shape[1]):\n",
    "        y_true[i][j] = 1 if labels[i]== j else 0"
   ]
  },
  {
   "cell_type": "code",
   "execution_count": 30,
   "id": "d8c6f90e",
   "metadata": {
    "execution": {
     "iopub.execute_input": "2024-01-29T03:11:26.100200Z",
     "iopub.status.busy": "2024-01-29T03:11:26.099682Z",
     "iopub.status.idle": "2024-01-29T03:11:26.108845Z",
     "shell.execute_reply": "2024-01-29T03:11:26.107597Z"
    },
    "papermill": {
     "duration": 0.049902,
     "end_time": "2024-01-29T03:11:26.111225",
     "exception": false,
     "start_time": "2024-01-29T03:11:26.061323",
     "status": "completed"
    },
    "tags": []
   },
   "outputs": [
    {
     "data": {
      "text/plain": [
       "array([[1., 0., 0., 0., 0.],\n",
       "       [1., 0., 0., 0., 0.],\n",
       "       [1., 0., 0., 0., 0.],\n",
       "       ...,\n",
       "       [0., 0., 0., 0., 1.],\n",
       "       [0., 0., 0., 0., 1.],\n",
       "       [0., 0., 0., 0., 1.]])"
      ]
     },
     "execution_count": 30,
     "metadata": {},
     "output_type": "execute_result"
    }
   ],
   "source": [
    "y_true"
   ]
  },
  {
   "cell_type": "code",
   "execution_count": 31,
   "id": "b2178762",
   "metadata": {
    "execution": {
     "iopub.execute_input": "2024-01-29T03:11:26.186719Z",
     "iopub.status.busy": "2024-01-29T03:11:26.185405Z",
     "iopub.status.idle": "2024-01-29T03:11:26.195035Z",
     "shell.execute_reply": "2024-01-29T03:11:26.193962Z"
    },
    "papermill": {
     "duration": 0.050408,
     "end_time": "2024-01-29T03:11:26.197596",
     "exception": false,
     "start_time": "2024-01-29T03:11:26.147188",
     "status": "completed"
    },
    "tags": []
   },
   "outputs": [
    {
     "data": {
      "text/plain": [
       "tensor([[  7.4117,   2.1946,   0.3597,  -4.7078,  -6.3720],\n",
       "        [ 10.4419,   0.9619,  -4.1064,  -5.2501,  -3.5978],\n",
       "        [ 10.0280,  -0.0358,  -0.6340,  -5.9710,  -4.3730],\n",
       "        ...,\n",
       "        [ -8.0092,   5.5348,  -5.6292, -13.4559,  19.4591],\n",
       "        [ -5.8247,   2.8383,  -6.4231,  -5.0161,  13.7265],\n",
       "        [ -8.5893,   2.5947,  -0.9699,  -5.5605,  11.3997]])"
      ]
     },
     "execution_count": 31,
     "metadata": {},
     "output_type": "execute_result"
    }
   ],
   "source": [
    "preds"
   ]
  },
  {
   "cell_type": "code",
   "execution_count": 32,
   "id": "8510e7e5",
   "metadata": {
    "execution": {
     "iopub.execute_input": "2024-01-29T03:11:26.274140Z",
     "iopub.status.busy": "2024-01-29T03:11:26.272812Z",
     "iopub.status.idle": "2024-01-29T03:11:26.287850Z",
     "shell.execute_reply": "2024-01-29T03:11:26.286532Z"
    },
    "papermill": {
     "duration": 0.057072,
     "end_time": "2024-01-29T03:11:26.290887",
     "exception": false,
     "start_time": "2024-01-29T03:11:26.233815",
     "status": "completed"
    },
    "tags": []
   },
   "outputs": [
    {
     "data": {
      "text/plain": [
       "tensor([0., 0., 0., 0., 0., 0., 0., 0., 0., 0., 0., 0., 0., 0., 0., 0., 0., 0.,\n",
       "        0., 0., 0., 0., 0., 0., 0., 0., 0., 0., 0., 0., 0., 0., 0., 0., 0., 0.,\n",
       "        0., 0., 0., 0., 0., 0., 0., 0., 0., 0., 0., 0., 0., 0., 0., 0., 0., 0.,\n",
       "        0., 0., 0., 0., 0., 0., 0., 0., 0., 0., 0., 0., 0., 0., 0., 0., 0., 0.,\n",
       "        0., 0., 0., 0., 0., 0., 0., 0., 0., 0., 1., 1., 1., 1., 1., 1., 1., 1.,\n",
       "        1., 1., 1., 1., 1., 1., 1., 1., 1., 1., 1., 1., 1., 1., 1., 1., 1., 1.,\n",
       "        1., 1., 1., 1., 1., 1., 1., 1., 1., 1., 1., 1., 1., 1., 1., 1., 1., 1.,\n",
       "        1., 1., 1., 1., 1., 1., 1., 1., 1., 1., 1., 1., 1., 1., 1., 1., 1., 1.,\n",
       "        1., 1., 1., 1., 1., 1., 1., 1., 1., 1., 1., 1., 1., 1., 1., 1., 1., 1.,\n",
       "        1., 1., 1., 2., 2., 2., 2., 2., 2., 2., 2., 2., 2., 2., 2., 2., 2., 2.,\n",
       "        2., 2., 2., 2., 2., 2., 2., 2., 2., 2., 2., 2., 2., 2., 2., 2., 2., 2.,\n",
       "        2., 2., 2., 2., 2., 2., 2., 2., 2., 2., 2., 2., 2., 2., 2., 2., 2., 2.,\n",
       "        2., 2., 2., 2., 2., 2., 2., 2., 2., 2., 2., 2., 2., 2., 2., 2., 2., 2.,\n",
       "        2., 2., 2., 2., 2., 2., 2., 2., 2., 2., 2., 3., 3., 3., 3., 3., 3., 3.,\n",
       "        3., 3., 3., 3., 3., 3., 3., 3., 3., 3., 3., 3., 3., 3., 3., 3., 3., 3.,\n",
       "        3., 3., 3., 3., 3., 3., 3., 3., 3., 3., 3., 3., 3., 3., 3., 3., 3., 3.,\n",
       "        3., 3., 3., 3., 3., 3., 3., 3., 3., 3., 3., 3., 3., 3., 3., 3., 3., 3.,\n",
       "        3., 3., 3., 3., 3., 3., 3., 3., 3., 3., 3., 3., 3., 3., 3., 3., 3., 3.,\n",
       "        4., 4., 4., 4., 4., 4., 4., 4., 4., 4., 4., 4., 4., 4., 4., 4., 4., 4.,\n",
       "        4., 4., 4., 4., 4., 4., 4., 4., 4., 4., 4., 4., 4., 4., 4., 4., 4., 4.,\n",
       "        4., 4., 4., 4., 4., 4., 4., 4., 4., 4., 4., 4., 4., 4., 4., 4., 4., 4.,\n",
       "        4., 4., 4., 4., 4., 4., 4., 4., 4., 4., 4., 4., 4., 4., 4., 4., 4., 4.,\n",
       "        4., 4., 4., 4., 4., 4., 4., 4., 4., 4., 4., 4.])"
      ]
     },
     "execution_count": 32,
     "metadata": {},
     "output_type": "execute_result"
    }
   ],
   "source": [
    "labels"
   ]
  },
  {
   "cell_type": "code",
   "execution_count": 33,
   "id": "c4630089",
   "metadata": {
    "execution": {
     "iopub.execute_input": "2024-01-29T03:11:26.368952Z",
     "iopub.status.busy": "2024-01-29T03:11:26.368397Z",
     "iopub.status.idle": "2024-01-29T03:11:26.639247Z",
     "shell.execute_reply": "2024-01-29T03:11:26.637902Z"
    },
    "papermill": {
     "duration": 0.313722,
     "end_time": "2024-01-29T03:11:26.642692",
     "exception": false,
     "start_time": "2024-01-29T03:11:26.328970",
     "status": "completed"
    },
    "tags": []
   },
   "outputs": [],
   "source": [
    "import numpy as np\n",
    "import matplotlib.pyplot as plt\n",
    "from itertools import cycle\n",
    "\n",
    "from sklearn import svm, datasets\n",
    "from sklearn.metrics import roc_curve, auc\n",
    "from sklearn.model_selection import train_test_split\n",
    "from sklearn.preprocessing import label_binarize\n",
    "from sklearn.multiclass import OneVsRestClassifier\n",
    "from sklearn.metrics import roc_auc_score\n",
    "fpr = dict()\n",
    "tpr = dict()\n",
    "roc_auc = dict()\n",
    "n_classes = preds.shape[1]\n",
    "out = preds.cpu().detach().numpy()\n",
    "for i in range(n_classes):\n",
    "    fpr[i], tpr[i], _ = roc_curve(y_true[:, i], out[:, i])\n",
    "    roc_auc[i] = auc(fpr[i], tpr[i])\n",
    "\n",
    "# Compute micro-average ROC curve and ROC area\n",
    "# fpr[\"micro\"], tpr[\"micro\"], _ = roc_curve(y_true.ravel(), out.ravel())\n",
    "# roc_auc[\"micro\"] = auc(fpr[\"micro\"], tpr[\"micro\"])"
   ]
  },
  {
   "cell_type": "code",
   "execution_count": 34,
   "id": "c7a6a0bf",
   "metadata": {
    "execution": {
     "iopub.execute_input": "2024-01-29T03:11:26.718086Z",
     "iopub.status.busy": "2024-01-29T03:11:26.717526Z",
     "iopub.status.idle": "2024-01-29T03:11:26.726260Z",
     "shell.execute_reply": "2024-01-29T03:11:26.724890Z"
    },
    "papermill": {
     "duration": 0.049952,
     "end_time": "2024-01-29T03:11:26.729127",
     "exception": false,
     "start_time": "2024-01-29T03:11:26.679175",
     "status": "completed"
    },
    "tags": []
   },
   "outputs": [
    {
     "data": {
      "text/plain": [
       "array([1., 0., 0., ..., 0., 0., 1.])"
      ]
     },
     "execution_count": 34,
     "metadata": {},
     "output_type": "execute_result"
    }
   ],
   "source": [
    "y_true.ravel()"
   ]
  },
  {
   "cell_type": "code",
   "execution_count": 35,
   "id": "dbd6b3d6",
   "metadata": {
    "execution": {
     "iopub.execute_input": "2024-01-29T03:11:26.806561Z",
     "iopub.status.busy": "2024-01-29T03:11:26.806095Z",
     "iopub.status.idle": "2024-01-29T03:11:26.814750Z",
     "shell.execute_reply": "2024-01-29T03:11:26.813478Z"
    },
    "papermill": {
     "duration": 0.051558,
     "end_time": "2024-01-29T03:11:26.817543",
     "exception": false,
     "start_time": "2024-01-29T03:11:26.765985",
     "status": "completed"
    },
    "tags": []
   },
   "outputs": [
    {
     "data": {
      "text/plain": [
       "array([ 7.411713  ,  2.1945615 ,  0.35969016, ..., -0.9699472 ,\n",
       "       -5.560507  , 11.399748  ], dtype=float32)"
      ]
     },
     "execution_count": 35,
     "metadata": {},
     "output_type": "execute_result"
    }
   ],
   "source": [
    "out.ravel()"
   ]
  },
  {
   "cell_type": "code",
   "execution_count": 36,
   "id": "518711c4",
   "metadata": {
    "execution": {
     "iopub.execute_input": "2024-01-29T03:11:26.896202Z",
     "iopub.status.busy": "2024-01-29T03:11:26.895077Z",
     "iopub.status.idle": "2024-01-29T03:11:26.910079Z",
     "shell.execute_reply": "2024-01-29T03:11:26.908785Z"
    },
    "papermill": {
     "duration": 0.059451,
     "end_time": "2024-01-29T03:11:26.913839",
     "exception": false,
     "start_time": "2024-01-29T03:11:26.854388",
     "status": "completed"
    },
    "tags": []
   },
   "outputs": [
    {
     "name": "stdout",
     "output_type": "stream",
     "text": [
      "[[  7.411713     2.1945615    0.35969016  -4.7077937   -6.371988  ]\n",
      " [ 10.441912     0.96189696  -4.106378    -5.250072    -3.5977645 ]\n",
      " [ 10.027989    -0.03583115  -0.6340244   -5.9710007   -4.372974  ]\n",
      " ...\n",
      " [ -8.009225     5.534777    -5.6292286  -13.455854    19.459097  ]\n",
      " [ -5.82471      2.8383303   -6.4231296   -5.0161214   13.7264595 ]\n",
      " [ -8.589282     2.5947251   -0.9699472   -5.560507    11.399748  ]]\n"
     ]
    },
    {
     "data": {
      "text/plain": [
       "0.979935601691657"
      ]
     },
     "execution_count": 36,
     "metadata": {},
     "output_type": "execute_result"
    }
   ],
   "source": [
    "# Compares with sklearn (average only)\n",
    "# \"Macro\" average = unweighted mean\n",
    "out = preds.cpu().detach().numpy()\n",
    "print(out)\n",
    "roc_auc_score(y_true.ravel(), out.ravel(), labels = classes_dir, multi_class = 'ovr', average = 'micro')"
   ]
  },
  {
   "cell_type": "code",
   "execution_count": 37,
   "id": "0fad06eb",
   "metadata": {
    "execution": {
     "iopub.execute_input": "2024-01-29T03:11:26.993749Z",
     "iopub.status.busy": "2024-01-29T03:11:26.992702Z",
     "iopub.status.idle": "2024-01-29T03:11:26.998674Z",
     "shell.execute_reply": "2024-01-29T03:11:26.997172Z"
    },
    "papermill": {
     "duration": 0.048336,
     "end_time": "2024-01-29T03:11:27.001303",
     "exception": false,
     "start_time": "2024-01-29T03:11:26.952967",
     "status": "completed"
    },
    "tags": []
   },
   "outputs": [],
   "source": [
    "# true_labels_"
   ]
  },
  {
   "cell_type": "code",
   "execution_count": 38,
   "id": "ffd60338",
   "metadata": {
    "execution": {
     "iopub.execute_input": "2024-01-29T03:11:27.080078Z",
     "iopub.status.busy": "2024-01-29T03:11:27.079518Z",
     "iopub.status.idle": "2024-01-29T03:11:27.085291Z",
     "shell.execute_reply": "2024-01-29T03:11:27.083969Z"
    },
    "papermill": {
     "duration": 0.047758,
     "end_time": "2024-01-29T03:11:27.088006",
     "exception": false,
     "start_time": "2024-01-29T03:11:27.040248",
     "status": "completed"
    },
    "tags": []
   },
   "outputs": [],
   "source": [
    "# all_predictions"
   ]
  },
  {
   "cell_type": "code",
   "execution_count": 39,
   "id": "50e0935a",
   "metadata": {
    "execution": {
     "iopub.execute_input": "2024-01-29T03:11:27.165060Z",
     "iopub.status.busy": "2024-01-29T03:11:27.164060Z",
     "iopub.status.idle": "2024-01-29T03:11:27.641486Z",
     "shell.execute_reply": "2024-01-29T03:11:27.640088Z"
    },
    "papermill": {
     "duration": 0.519038,
     "end_time": "2024-01-29T03:11:27.644242",
     "exception": false,
     "start_time": "2024-01-29T03:11:27.125204",
     "status": "completed"
    },
    "tags": []
   },
   "outputs": [
    {
     "data": {
      "image/png": "[encoded data removed]",
      "text/plain": [
       "<Figure size 500x500 with 1 Axes>"
      ]
     },
     "metadata": {},
     "output_type": "display_data"
    }
   ],
   "source": [
    "# First aggregate all false positive rates\n",
    "# all_fpr = np.unique(np.concatenate([fpr[i] for i in range(n_classes)]))\n",
    "\n",
    "# # Then interpolate all ROC curves at this points\n",
    "# mean_tpr = np.zeros_like(all_fpr)\n",
    "# for i in range(n_classes):\n",
    "#     mean_tpr += np.interp(all_fpr, fpr[i], tpr[i])\n",
    "\n",
    "#     # Finally average it and compute AUC\n",
    "#     mean_tpr /= n_classes\n",
    "\n",
    "#     fpr[\"macro\"] = all_fpr\n",
    "#     tpr[\"macro\"] = mean_tpr\n",
    "#     roc_auc[\"macro\"] = auc(fpr[\"macro\"], tpr[\"macro\"])\n",
    "\n",
    "# # Plot all ROC curves\n",
    "# plt.figure()\n",
    "# plt.plot(\n",
    "#     fpr[\"micro\"],\n",
    "#     tpr[\"micro\"],\n",
    "#     label=\"micro-average ROC curve (area = {0:0.2f})\".format(roc_auc[\"micro\"]),\n",
    "#     color=\"deeppink\",\n",
    "#     linestyle=\":\",\n",
    "#     linewidth=4,\n",
    "# )\n",
    "\n",
    "# plt.plot(\n",
    "#     fpr[\"macro\"],\n",
    "#     tpr[\"macro\"],\n",
    "#     label=\"macro-average ROC curve (area = {0:0.2f})\".format(roc_auc[\"macro\"]),\n",
    "#     color=\"navy\",\n",
    "#     linestyle=\":\",\n",
    "#     linewidth=4,\n",
    "# )\n",
    "\n",
    "colors = cycle([\"aqua\", \"darkorange\", \"cornflowerblue\", \"yellow\",\"green\"])\n",
    "for i, color in zip(range(n_classes), colors):\n",
    "    plt.plot(\n",
    "        fpr[i],\n",
    "        tpr[i],\n",
    "        color=color,\n",
    "        lw=2,\n",
    "        label=\"{0}(area = {1:0.2f})\".format(classes_dir[i], roc_auc[i]),\n",
    "    )\n",
    "\n",
    "plt.plot([0, 1], [0, 1], \"k--\", lw=2)\n",
    "plt.xlim([0.0, 1.0])\n",
    "plt.ylim([0.0, 1.05])\n",
    "plt.xlabel(\"False Positive Rate\")\n",
    "plt.ylabel(\"True Positive Rate\")\n",
    "plt.title(\"ROC of multiclass prediction\")\n",
    "# Adding legend with fontsize and lower right alignment\n",
    "plt.legend(loc=\"lower right\", fontsize='9')\n",
    "plt.show()"
   ]
  },
  {
   "cell_type": "code",
   "execution_count": 40,
   "id": "2dbd699a",
   "metadata": {
    "execution": {
     "iopub.execute_input": "2024-01-29T03:11:27.725040Z",
     "iopub.status.busy": "2024-01-29T03:11:27.724517Z",
     "iopub.status.idle": "2024-01-29T03:11:27.730861Z",
     "shell.execute_reply": "2024-01-29T03:11:27.729486Z"
    },
    "papermill": {
     "duration": 0.049358,
     "end_time": "2024-01-29T03:11:27.733525",
     "exception": false,
     "start_time": "2024-01-29T03:11:27.684167",
     "status": "completed"
    },
    "tags": []
   },
   "outputs": [],
   "source": [
    "_, y_pred = torch.max(preds, dim=1)"
   ]
  },
  {
   "cell_type": "code",
   "execution_count": 41,
   "id": "161ea2d8",
   "metadata": {
    "execution": {
     "iopub.execute_input": "2024-01-29T03:11:27.813131Z",
     "iopub.status.busy": "2024-01-29T03:11:27.812568Z",
     "iopub.status.idle": "2024-01-29T03:11:27.833376Z",
     "shell.execute_reply": "2024-01-29T03:11:27.831906Z"
    },
    "papermill": {
     "duration": 0.064142,
     "end_time": "2024-01-29T03:11:27.836362",
     "exception": false,
     "start_time": "2024-01-29T03:11:27.772220",
     "status": "completed"
    },
    "tags": []
   },
   "outputs": [
    {
     "name": "stdout",
     "output_type": "stream",
     "text": [
      "                          precision    recall  f1-score   support\n",
      "\n",
      "            Dyskeratotic       0.99      0.93      0.96        82\n",
      "            Koilocytotic       0.86      0.96      0.91        83\n",
      "             Metaplastic       0.96      0.86      0.91        80\n",
      "               Parabasal       0.99      0.95      0.97        79\n",
      "Superficial-Intermediate       0.92      0.99      0.95        84\n",
      "\n",
      "                accuracy                           0.94       408\n",
      "               macro avg       0.94      0.94      0.94       408\n",
      "            weighted avg       0.94      0.94      0.94       408\n",
      "\n",
      "Note: In binary classification, recall of the positive class is also known as “sensitivity”; \n",
      "recall of the negative class is “specificity”.\n"
     ]
    }
   ],
   "source": [
    "from sklearn.metrics import classification_report\n",
    "target_names = [classes_dir[i] for i in range(5)]\n",
    "print(classification_report(labels.cpu(), y_pred.cpu(), target_names = target_names))\n",
    "print('Note: In binary classification, recall of the positive class is also known as “sensitivity”; \\n\\\n",
    "recall of the negative class is “specificity”.')"
   ]
  },
  {
   "cell_type": "code",
   "execution_count": 42,
   "id": "1a116274",
   "metadata": {
    "execution": {
     "iopub.execute_input": "2024-01-29T03:11:27.919215Z",
     "iopub.status.busy": "2024-01-29T03:11:27.918171Z",
     "iopub.status.idle": "2024-01-29T03:11:27.928771Z",
     "shell.execute_reply": "2024-01-29T03:11:27.926687Z"
    },
    "papermill": {
     "duration": 0.05698,
     "end_time": "2024-01-29T03:11:27.931793",
     "exception": false,
     "start_time": "2024-01-29T03:11:27.874813",
     "status": "completed"
    },
    "tags": []
   },
   "outputs": [
    {
     "name": "stdout",
     "output_type": "stream",
     "text": [
      "Accuracy: 0.9387\n"
     ]
    }
   ],
   "source": [
    "# Calculate and print test accuracy\n",
    "accuracy = accuracy_score(labels.cpu(), y_pred.cpu())\n",
    "print(f'Accuracy: {accuracy:.4f}')"
   ]
  },
  {
   "cell_type": "code",
   "execution_count": 43,
   "id": "c6436c6e",
   "metadata": {
    "execution": {
     "iopub.execute_input": "2024-01-29T03:11:28.015861Z",
     "iopub.status.busy": "2024-01-29T03:11:28.015355Z",
     "iopub.status.idle": "2024-01-29T03:11:28.023044Z",
     "shell.execute_reply": "2024-01-29T03:11:28.021847Z"
    },
    "papermill": {
     "duration": 0.051608,
     "end_time": "2024-01-29T03:11:28.025421",
     "exception": false,
     "start_time": "2024-01-29T03:11:27.973813",
     "status": "completed"
    },
    "tags": []
   },
   "outputs": [],
   "source": [
    "# import numpy as np\n",
    "# import matplotlib.pyplot as plt\n",
    "# from sklearn.metrics import roc_curve, auc\n",
    "# from sklearn.preprocessing import label_binarize\n",
    "# from torch.utils.data import DataLoader\n",
    "# import torch.nn.functional as F\n",
    "# import torch\n",
    "\n",
    "# model=global_net\n",
    "# # Assuming you have 'all_predictions' and 'true_labels' from the previous code snippet\n",
    "# # Assuming you have a PyTorch model named 'model' and a DataLoader named 'testloader'\n",
    "\n",
    "# # Set the model to evaluation mode\n",
    "# model.eval()\n",
    "\n",
    "# # Initialize lists to store true labels and predicted probabilities\n",
    "# true_labels = []\n",
    "# predicted_probs = []\n",
    "\n",
    "# # Iterate through the test set and collect true labels and predicted probabilities\n",
    "# with torch.no_grad():\n",
    "#     for test_data, test_labels in testloader:\n",
    "#         outputs = model(test_data)\n",
    "#         probs = F.softmax(outputs, dim=1)\n",
    "#         true_labels.extend(test_labels.numpy())\n",
    "#         predicted_probs.extend(probs.numpy())\n",
    "\n",
    "# # Convert lists to numpy arrays\n",
    "# true_labels = np.array(true_labels)\n",
    "# predicted_probs = np.array(predicted_probs)\n",
    "\n",
    "# # Binarize the true labels\n",
    "# num_classes = 5\n",
    "# true_labels_bin = label_binarize(true_labels, classes=np.arange(num_classes))\n",
    "\n",
    "# # Compute ROC curve and ROC area for each class\n",
    "# fpr = dict()\n",
    "# tpr = dict()\n",
    "# roc_auc = dict()\n",
    "# for i in range(num_classes):\n",
    "#     fpr[i], tpr[i], _ = roc_curve(true_labels_bin[:, i], predicted_probs[:, i])\n",
    "#     roc_auc[i] = auc(fpr[i], tpr[i])\n",
    "\n",
    "# # Plot ROC curves\n",
    "# plt.figure(figsize=(10, 8))\n",
    "# for i in range(num_classes):\n",
    "#     plt.plot(fpr[i], tpr[i], label=f'Class {i} (AUC = {roc_auc[i]:.2f})')\n",
    "\n",
    "# plt.plot([0, 1], [0, 1], linestyle='--', color='gray', label='Random')\n",
    "# plt.xlabel('False Positive Rate')\n",
    "# plt.ylabel('True Positive Rate')\n",
    "# plt.title('ROC Curve for Multiclass Classification')\n",
    "# plt.legend(loc='lower right')\n",
    "# plt.show()"
   ]
  },
  {
   "cell_type": "markdown",
   "id": "c4b139c0",
   "metadata": {
    "papermill": {
     "duration": 0.037741,
     "end_time": "2024-01-29T03:11:28.103819",
     "exception": false,
     "start_time": "2024-01-29T03:11:28.066078",
     "status": "completed"
    },
    "tags": []
   },
   "source": [
    "## Save the model"
   ]
  },
  {
   "cell_type": "code",
   "execution_count": 44,
   "id": "3d041901",
   "metadata": {
    "execution": {
     "iopub.execute_input": "2024-01-29T03:11:28.184368Z",
     "iopub.status.busy": "2024-01-29T03:11:28.183446Z",
     "iopub.status.idle": "2024-01-29T03:11:28.202466Z",
     "shell.execute_reply": "2024-01-29T03:11:28.201426Z"
    },
    "papermill": {
     "duration": 0.063112,
     "end_time": "2024-01-29T03:11:28.205612",
     "exception": false,
     "start_time": "2024-01-29T03:11:28.142500",
     "status": "completed"
    },
    "tags": []
   },
   "outputs": [],
   "source": [
    "checkpoint = {'model': FederatedNet(),\n",
    "          'state_dict': global_net.state_dict()}\n",
    "\n",
    "torch.save(checkpoint, 'checkpoint.pth')"
   ]
  },
  {
   "cell_type": "code",
   "execution_count": 45,
   "id": "d2a8bb5a",
   "metadata": {
    "execution": {
     "iopub.execute_input": "2024-01-29T03:11:28.286141Z",
     "iopub.status.busy": "2024-01-29T03:11:28.285254Z",
     "iopub.status.idle": "2024-01-29T03:11:28.302341Z",
     "shell.execute_reply": "2024-01-29T03:11:28.300993Z"
    },
    "papermill": {
     "duration": 0.060457,
     "end_time": "2024-01-29T03:11:28.305025",
     "exception": false,
     "start_time": "2024-01-29T03:11:28.244568",
     "status": "completed"
    },
    "tags": []
   },
   "outputs": [
    {
     "name": "stdout",
     "output_type": "stream",
     "text": [
      "                          precision    recall  f1-score   support\n",
      "\n",
      "            Dyskeratotic       0.99      0.93      0.96        82\n",
      "            Koilocytotic       0.86      0.96      0.91        83\n",
      "             Metaplastic       0.96      0.86      0.91        80\n",
      "               Parabasal       0.99      0.95      0.97        79\n",
      "Superficial-Intermediate       0.92      0.99      0.95        84\n",
      "\n",
      "                accuracy                           0.94       408\n",
      "               macro avg       0.94      0.94      0.94       408\n",
      "            weighted avg       0.94      0.94      0.94       408\n",
      "\n",
      "Note: In binary classification, recall of the positive class is also known as “sensitivity”; \n",
      "recall of the negative class is “specificity”.\n"
     ]
    }
   ],
   "source": [
    "from sklearn.metrics import classification_report\n",
    "target_names = [classes_dir[i] for i in range(5)]\n",
    "print(classification_report(labels.cpu(), y_pred.cpu(), target_names = target_names))\n",
    "print('Note: In binary classification, recall of the positive class is also known as “sensitivity”; \\n\\\n",
    "recall of the negative class is “specificity”.')"
   ]
  },
  {
   "cell_type": "code",
   "execution_count": 46,
   "id": "0018a94d",
   "metadata": {
    "execution": {
     "iopub.execute_input": "2024-01-29T03:11:28.386095Z",
     "iopub.status.busy": "2024-01-29T03:11:28.385240Z",
     "iopub.status.idle": "2024-01-29T03:11:28.391559Z",
     "shell.execute_reply": "2024-01-29T03:11:28.390362Z"
    },
    "papermill": {
     "duration": 0.050605,
     "end_time": "2024-01-29T03:11:28.394503",
     "exception": false,
     "start_time": "2024-01-29T03:11:28.343898",
     "status": "completed"
    },
    "tags": []
   },
   "outputs": [],
   "source": [
    "# import seaborn as sns; sns.set(font_scale=1.4)\n",
    "# from sklearn.metrics import confusion_matrix\n",
    "# import numpy as np\n",
    "\n",
    "# # Make predictions on the test set\n",
    "# all_predictions = []\n",
    "# true_labels = []\n",
    "# with torch.no_grad():\n",
    "#     for test_data, test_labels in testloader:\n",
    "#         outputs = model(test_data)\n",
    "#         _, predictions = torch.max(outputs, 1)\n",
    "#         all_predictions.extend(predictions.numpy())\n",
    "#         true_labels.extend(test_labels.numpy())\n",
    "\n",
    "# # 'all_predictions' now contains the predicted class labels, and 'true_labels' contains the true class labels\n",
    "# print(\"Predictions:\", all_predictions)\n",
    "# print(\"True Labels:\", true_labels)\n",
    "\n",
    "# # Convert lists to numpy arrays\n",
    "# all_predictions_ = np.array(all_predictions)\n",
    "# true_labels_ = np.array(true_labels)\n",
    "\n",
    "# # Display confusion matrix using seaborn heatmap\n",
    "# class_names = [\"Dyskeratotic\", \"Koilocytotic\", \"Metaplastic\", \"Parabasal\", \"Superficial-Intermediate\"]   # Classes\n",
    "# CM = confusion_matrix(true_labels_, all_predictions_)\n",
    "# ax = plt.axes()\n",
    "# sns.heatmap(CM, annot=True, \n",
    "#            annot_kws={\"size\": 10}, \n",
    "#            xticklabels=class_names, \n",
    "#            yticklabels=class_names, ax = ax, )\n",
    "# ax.set_title('Confusion matrix')\n",
    "# plt.show()"
   ]
  },
  {
   "cell_type": "markdown",
   "id": "7255129c",
   "metadata": {
    "papermill": {
     "duration": 0.038863,
     "end_time": "2024-01-29T03:11:28.474170",
     "exception": false,
     "start_time": "2024-01-29T03:11:28.435307",
     "status": "completed"
    },
    "tags": []
   },
   "source": [
    "## Visualize the model"
   ]
  },
  {
   "cell_type": "code",
   "execution_count": 47,
   "id": "f889a0f7",
   "metadata": {
    "execution": {
     "iopub.execute_input": "2024-01-29T03:11:28.553644Z",
     "iopub.status.busy": "2024-01-29T03:11:28.553172Z",
     "iopub.status.idle": "2024-01-29T03:11:59.875902Z",
     "shell.execute_reply": "2024-01-29T03:11:59.874056Z"
    },
    "papermill": {
     "duration": 31.366828,
     "end_time": "2024-01-29T03:11:59.879388",
     "exception": false,
     "start_time": "2024-01-29T03:11:28.512560",
     "status": "completed"
    },
    "tags": []
   },
   "outputs": [],
   "source": [
    "! pip install -q torchview\n",
    "! pip install -q -U graphviz"
   ]
  },
  {
   "cell_type": "code",
   "execution_count": 48,
   "id": "515f9615",
   "metadata": {
    "execution": {
     "iopub.execute_input": "2024-01-29T03:11:59.960566Z",
     "iopub.status.busy": "2024-01-29T03:11:59.960050Z",
     "iopub.status.idle": "2024-01-29T03:12:00.028349Z",
     "shell.execute_reply": "2024-01-29T03:12:00.027018Z"
    },
    "papermill": {
     "duration": 0.112498,
     "end_time": "2024-01-29T03:12:00.031065",
     "exception": false,
     "start_time": "2024-01-29T03:11:59.918567",
     "status": "completed"
    },
    "tags": []
   },
   "outputs": [
    {
     "data": {
      "text/plain": [
       "'svg'"
      ]
     },
     "execution_count": 48,
     "metadata": {},
     "output_type": "execute_result"
    }
   ],
   "source": [
    "import torch\n",
    "from torchvision.models import vgg16, resnet18, GoogLeNet, densenet, vit_b_16\n",
    "\n",
    "from torchview import draw_graph\n",
    "import graphviz\n",
    "graphviz.set_jupyter_format('png')"
   ]
  },
  {
   "cell_type": "code",
   "execution_count": 49,
   "id": "890da5d4",
   "metadata": {
    "execution": {
     "iopub.execute_input": "2024-01-29T03:12:00.113542Z",
     "iopub.status.busy": "2024-01-29T03:12:00.113047Z",
     "iopub.status.idle": "2024-01-29T03:12:00.392067Z",
     "shell.execute_reply": "2024-01-29T03:12:00.390954Z"
    },
    "papermill": {
     "duration": 0.324037,
     "end_time": "2024-01-29T03:12:00.395779",
     "exception": false,
     "start_time": "2024-01-29T03:12:00.071742",
     "status": "completed"
    },
    "tags": []
   },
   "outputs": [
    {
     "data": {
      "image/png": "[encoded data removed]",
      "text/plain": [
       "<graphviz.graphs.Digraph at 0x7c14c020b280>"
      ]
     },
     "execution_count": 49,
     "metadata": {},
     "output_type": "execute_result"
    }
   ],
   "source": [
    "model=FederatedNet()\n",
    "#depth: Upper limit for depth of nodes to be shown in visualization.\n",
    "        #Depth is measured how far is module/tensor inside the module hierarchy.\n",
    "#model_graph = draw_graph(model, input_size=[(1,3,224,224),] ,depth=1 ,expand_nested=True)\n",
    "model_graph = draw_graph(global_net, input_size=[(5,3,28,28)],expand_nested=True )\n",
    "model_graph.resize_graph(scale=5.0) # scale as per the view\n",
    "#model_graph.visual_graph.render(format='svg')\n",
    "model_graph.visual_graph"
   ]
  },
  {
   "cell_type": "code",
   "execution_count": 50,
   "id": "5a00183d",
   "metadata": {
    "execution": {
     "iopub.execute_input": "2024-01-29T03:12:00.480322Z",
     "iopub.status.busy": "2024-01-29T03:12:00.479389Z",
     "iopub.status.idle": "2024-01-29T03:12:00.549298Z",
     "shell.execute_reply": "2024-01-29T03:12:00.547667Z"
    },
    "papermill": {
     "duration": 0.115755,
     "end_time": "2024-01-29T03:12:00.552351",
     "exception": false,
     "start_time": "2024-01-29T03:12:00.436596",
     "status": "completed"
    },
    "tags": []
   },
   "outputs": [
    {
     "data": {
      "text/plain": [
       "'model.gv.png'"
      ]
     },
     "execution_count": 50,
     "metadata": {},
     "output_type": "execute_result"
    }
   ],
   "source": [
    "model_graph.visual_graph.render(format='png')"
   ]
  },
  {
   "cell_type": "code",
   "execution_count": null,
   "id": "ec937955",
   "metadata": {
    "papermill": {
     "duration": 0.040348,
     "end_time": "2024-01-29T03:12:00.636837",
     "exception": false,
     "start_time": "2024-01-29T03:12:00.596489",
     "status": "completed"
    },
    "tags": []
   },
   "outputs": [],
   "source": []
  }
 ],
 "metadata": {
  "kaggle": {
   "accelerator": "none",
   "dataSources": [
    {
     "datasetId": 4238287,
     "sourceId": 7304870,
     "sourceType": "datasetVersion"
    },
    {
     "datasetId": 4333597,
     "sourceId": 7445300,
     "sourceType": "datasetVersion"
    },
    {
     "datasetId": 4333649,
     "sourceId": 7445376,
     "sourceType": "datasetVersion"
    },
    {
     "isSourceIdPinned": true,
     "modelInstanceId": 5701,
     "sourceId": 7271,
     "sourceType": "modelInstanceVersion"
    },
    {
     "isSourceIdPinned": true,
     "modelInstanceId": 5820,
     "sourceId": 7403,
     "sourceType": "modelInstanceVersion"
    },
    {
     "isSourceIdPinned": true,
     "modelInstanceId": 5821,
     "sourceId": 7405,
     "sourceType": "modelInstanceVersion"
    }
   ],
   "dockerImageVersionId": 30626,
   "isGpuEnabled": false,
   "isInternetEnabled": true,
   "language": "python",
   "sourceType": "notebook"
  },
  "kernelspec": {
   "display_name": "Python 3",
   "language": "python",
   "name": "python3"
  },
  "language_info": {
   "codemirror_mode": {
    "name": "ipython",
    "version": 3
   },
   "file_extension": ".py",
   "mimetype": "text/x-python",
   "name": "python",
   "nbconvert_exporter": "python",
   "pygments_lexer": "ipython3",
   "version": "3.10.12"
  },
  "papermill": {
   "default_parameters": {},
   "duration": 2477.29922,
   "end_time": "2024-01-29T03:12:03.071888",
   "environment_variables": {},
   "exception": null,
   "input_path": "__notebook__.ipynb",
   "output_path": "__notebook__.ipynb",
   "parameters": {},
   "start_time": "2024-01-29T02:30:45.772668",
   "version": "2.4.0"
  }
 },
 "nbformat": 4,
 "nbformat_minor": 5
}
